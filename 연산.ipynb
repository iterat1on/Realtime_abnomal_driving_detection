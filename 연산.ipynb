{
  "nbformat": 4,
  "nbformat_minor": 0,
  "metadata": {
    "colab": {
      "name": "연산.ipynb",
      "provenance": [],
      "authorship_tag": "ABX9TyNr3yVhc5zK7CzQRSqaETvk",
      "include_colab_link": true
    },
    "kernelspec": {
      "name": "python3",
      "display_name": "Python 3"
    },
    "language_info": {
      "name": "python"
    }
  },
  "cells": [
    {
      "cell_type": "markdown",
      "metadata": {
        "id": "view-in-github",
        "colab_type": "text"
      },
      "source": [
        "<a href=\"https://colab.research.google.com/github/iterat1on/class/blob/main/%EC%97%B0%EC%82%B0.ipynb\" target=\"_parent\"><img src=\"https://colab.research.google.com/assets/colab-badge.svg\" alt=\"Open In Colab\"/></a>"
      ]
    },
    {
      "cell_type": "code",
      "execution_count": 3,
      "metadata": {
        "colab": {
          "base_uri": "https://localhost:8080/"
        },
        "id": "6l90l1-FQm_G",
        "outputId": "a5a39afc-c774-4c13-b5a6-a2d288205477"
      },
      "outputs": [
        {
          "output_type": "stream",
          "name": "stdout",
          "text": [
            "Drive already mounted at /content/drive/; to attempt to forcibly remount, call drive.mount(\"/content/drive/\", force_remount=True).\n"
          ]
        }
      ],
      "source": [
        "from google.colab import drive\n",
        "drive.mount('/content/drive/')"
      ]
    },
    {
      "cell_type": "code",
      "source": [
        "import pandas as pd\n",
        "df = pd.read_csv('./drive/MyDrive/location_match_done.csv')\n",
        "df.head()"
      ],
      "metadata": {
        "colab": {
          "base_uri": "https://localhost:8080/",
          "height": 629
        },
        "id": "W0L4QNtxQ5A9",
        "outputId": "342b1927-9e10-4a9c-9581-68ff1f57055f"
      },
      "execution_count": 6,
      "outputs": [
        {
          "output_type": "execute_result",
          "data": {
            "text/plain": [
              "   Unnamed: 0      s_lat       s_lng      e_lat       e_lng   max_rpm  \\\n",
              "0           3  37.653890  126.820917  37.656342  126.821823  1573.572   \n",
              "1           4  37.656592  126.822297  37.657863  126.827200     0.000   \n",
              "2           5  37.648488  126.839532  37.648250  126.837180     0.000   \n",
              "3           6  37.648250  126.837180  37.648010  126.839187     0.000   \n",
              "4           7  35.535758  129.339237  35.537258  129.329310  1760.759   \n",
              "\n",
              "        s20      s30     s40    s50  ...                start_add  \\\n",
              "0  0.000000    9.009   0.000  0.000  ...      경기도 고양시 덕양구 주교동 999   \n",
              "1  0.000000    0.000   0.000  0.000  ...   경기도 고양시 덕양구 주교동 1069-1   \n",
              "2  0.000000    0.000   0.000  0.000  ...  경기도 고양시 덕양구 화정1동 188-31   \n",
              "3  0.000000    0.000   0.000  0.000  ...                고양시 노인복지관   \n",
              "4  5.592834  124.124  19.019  3.003  ...      울산광역시 남구 화합로125번길 9   \n",
              "\n",
              "                   end_add  s_teukbyul_si/do  s_teukbyulsi/goon/gu  \\\n",
              "0   경기도 고양시 덕양구 주교동 1542-1               경기도                   고양시   \n",
              "1    경기도 고양시 덕양구 주교동 222-9               경기도                   고양시   \n",
              "2                고양시 노인복지관               경기도                   고양시   \n",
              "3  경기도 고양시 덕양구 화정1동 188-28               고양시                 노인복지관   \n",
              "4      울산광역시 남구 달동 1247-14             울산광역시                    남구   \n",
              "\n",
              "   s_dong/eup/myun  e_teukbyulsi/do  e_teukbyulsi/goon/gu  e_dong/eup/myun  \\\n",
              "0              덕양구              경기도                   고양시              덕양구   \n",
              "1              덕양구              경기도                   고양시              덕양구   \n",
              "2              덕양구              고양시                 노인복지관              NaN   \n",
              "3              NaN              경기도                   고양시              덕양구   \n",
              "4         화합로125번길            울산광역시                    남구               달동   \n",
              "\n",
              "                           s                          e  \n",
              "0  [37.6538899, 126.8209166]  [37.6563416, 126.8218233]  \n",
              "1  [37.6565916, 126.8222966]     [37.6578633, 126.8272]  \n",
              "2  [37.6484883, 126.8395316]      [37.64825, 126.83718]  \n",
              "3      [37.64825, 126.83718]    [37.64801, 126.8391866]  \n",
              "4  [35.5357583, 129.3392366]    [35.5372583, 129.32931]  \n",
              "\n",
              "[5 rows x 33 columns]"
            ],
            "text/html": [
              "\n",
              "  <div id=\"df-f073d34d-7af1-4537-bf13-9e6e504558dc\">\n",
              "    <div class=\"colab-df-container\">\n",
              "      <div>\n",
              "<style scoped>\n",
              "    .dataframe tbody tr th:only-of-type {\n",
              "        vertical-align: middle;\n",
              "    }\n",
              "\n",
              "    .dataframe tbody tr th {\n",
              "        vertical-align: top;\n",
              "    }\n",
              "\n",
              "    .dataframe thead th {\n",
              "        text-align: right;\n",
              "    }\n",
              "</style>\n",
              "<table border=\"1\" class=\"dataframe\">\n",
              "  <thead>\n",
              "    <tr style=\"text-align: right;\">\n",
              "      <th></th>\n",
              "      <th>Unnamed: 0</th>\n",
              "      <th>s_lat</th>\n",
              "      <th>s_lng</th>\n",
              "      <th>e_lat</th>\n",
              "      <th>e_lng</th>\n",
              "      <th>max_rpm</th>\n",
              "      <th>s20</th>\n",
              "      <th>s30</th>\n",
              "      <th>s40</th>\n",
              "      <th>s50</th>\n",
              "      <th>...</th>\n",
              "      <th>start_add</th>\n",
              "      <th>end_add</th>\n",
              "      <th>s_teukbyul_si/do</th>\n",
              "      <th>s_teukbyulsi/goon/gu</th>\n",
              "      <th>s_dong/eup/myun</th>\n",
              "      <th>e_teukbyulsi/do</th>\n",
              "      <th>e_teukbyulsi/goon/gu</th>\n",
              "      <th>e_dong/eup/myun</th>\n",
              "      <th>s</th>\n",
              "      <th>e</th>\n",
              "    </tr>\n",
              "  </thead>\n",
              "  <tbody>\n",
              "    <tr>\n",
              "      <th>0</th>\n",
              "      <td>3</td>\n",
              "      <td>37.653890</td>\n",
              "      <td>126.820917</td>\n",
              "      <td>37.656342</td>\n",
              "      <td>126.821823</td>\n",
              "      <td>1573.572</td>\n",
              "      <td>0.000000</td>\n",
              "      <td>9.009</td>\n",
              "      <td>0.000</td>\n",
              "      <td>0.000</td>\n",
              "      <td>...</td>\n",
              "      <td>경기도 고양시 덕양구 주교동 999</td>\n",
              "      <td>경기도 고양시 덕양구 주교동 1542-1</td>\n",
              "      <td>경기도</td>\n",
              "      <td>고양시</td>\n",
              "      <td>덕양구</td>\n",
              "      <td>경기도</td>\n",
              "      <td>고양시</td>\n",
              "      <td>덕양구</td>\n",
              "      <td>[37.6538899, 126.8209166]</td>\n",
              "      <td>[37.6563416, 126.8218233]</td>\n",
              "    </tr>\n",
              "    <tr>\n",
              "      <th>1</th>\n",
              "      <td>4</td>\n",
              "      <td>37.656592</td>\n",
              "      <td>126.822297</td>\n",
              "      <td>37.657863</td>\n",
              "      <td>126.827200</td>\n",
              "      <td>0.000</td>\n",
              "      <td>0.000000</td>\n",
              "      <td>0.000</td>\n",
              "      <td>0.000</td>\n",
              "      <td>0.000</td>\n",
              "      <td>...</td>\n",
              "      <td>경기도 고양시 덕양구 주교동 1069-1</td>\n",
              "      <td>경기도 고양시 덕양구 주교동 222-9</td>\n",
              "      <td>경기도</td>\n",
              "      <td>고양시</td>\n",
              "      <td>덕양구</td>\n",
              "      <td>경기도</td>\n",
              "      <td>고양시</td>\n",
              "      <td>덕양구</td>\n",
              "      <td>[37.6565916, 126.8222966]</td>\n",
              "      <td>[37.6578633, 126.8272]</td>\n",
              "    </tr>\n",
              "    <tr>\n",
              "      <th>2</th>\n",
              "      <td>5</td>\n",
              "      <td>37.648488</td>\n",
              "      <td>126.839532</td>\n",
              "      <td>37.648250</td>\n",
              "      <td>126.837180</td>\n",
              "      <td>0.000</td>\n",
              "      <td>0.000000</td>\n",
              "      <td>0.000</td>\n",
              "      <td>0.000</td>\n",
              "      <td>0.000</td>\n",
              "      <td>...</td>\n",
              "      <td>경기도 고양시 덕양구 화정1동 188-31</td>\n",
              "      <td>고양시 노인복지관</td>\n",
              "      <td>경기도</td>\n",
              "      <td>고양시</td>\n",
              "      <td>덕양구</td>\n",
              "      <td>고양시</td>\n",
              "      <td>노인복지관</td>\n",
              "      <td>NaN</td>\n",
              "      <td>[37.6484883, 126.8395316]</td>\n",
              "      <td>[37.64825, 126.83718]</td>\n",
              "    </tr>\n",
              "    <tr>\n",
              "      <th>3</th>\n",
              "      <td>6</td>\n",
              "      <td>37.648250</td>\n",
              "      <td>126.837180</td>\n",
              "      <td>37.648010</td>\n",
              "      <td>126.839187</td>\n",
              "      <td>0.000</td>\n",
              "      <td>0.000000</td>\n",
              "      <td>0.000</td>\n",
              "      <td>0.000</td>\n",
              "      <td>0.000</td>\n",
              "      <td>...</td>\n",
              "      <td>고양시 노인복지관</td>\n",
              "      <td>경기도 고양시 덕양구 화정1동 188-28</td>\n",
              "      <td>고양시</td>\n",
              "      <td>노인복지관</td>\n",
              "      <td>NaN</td>\n",
              "      <td>경기도</td>\n",
              "      <td>고양시</td>\n",
              "      <td>덕양구</td>\n",
              "      <td>[37.64825, 126.83718]</td>\n",
              "      <td>[37.64801, 126.8391866]</td>\n",
              "    </tr>\n",
              "    <tr>\n",
              "      <th>4</th>\n",
              "      <td>7</td>\n",
              "      <td>35.535758</td>\n",
              "      <td>129.339237</td>\n",
              "      <td>35.537258</td>\n",
              "      <td>129.329310</td>\n",
              "      <td>1760.759</td>\n",
              "      <td>5.592834</td>\n",
              "      <td>124.124</td>\n",
              "      <td>19.019</td>\n",
              "      <td>3.003</td>\n",
              "      <td>...</td>\n",
              "      <td>울산광역시 남구 화합로125번길 9</td>\n",
              "      <td>울산광역시 남구 달동 1247-14</td>\n",
              "      <td>울산광역시</td>\n",
              "      <td>남구</td>\n",
              "      <td>화합로125번길</td>\n",
              "      <td>울산광역시</td>\n",
              "      <td>남구</td>\n",
              "      <td>달동</td>\n",
              "      <td>[35.5357583, 129.3392366]</td>\n",
              "      <td>[35.5372583, 129.32931]</td>\n",
              "    </tr>\n",
              "  </tbody>\n",
              "</table>\n",
              "<p>5 rows × 33 columns</p>\n",
              "</div>\n",
              "      <button class=\"colab-df-convert\" onclick=\"convertToInteractive('df-f073d34d-7af1-4537-bf13-9e6e504558dc')\"\n",
              "              title=\"Convert this dataframe to an interactive table.\"\n",
              "              style=\"display:none;\">\n",
              "        \n",
              "  <svg xmlns=\"http://www.w3.org/2000/svg\" height=\"24px\"viewBox=\"0 0 24 24\"\n",
              "       width=\"24px\">\n",
              "    <path d=\"M0 0h24v24H0V0z\" fill=\"none\"/>\n",
              "    <path d=\"M18.56 5.44l.94 2.06.94-2.06 2.06-.94-2.06-.94-.94-2.06-.94 2.06-2.06.94zm-11 1L8.5 8.5l.94-2.06 2.06-.94-2.06-.94L8.5 2.5l-.94 2.06-2.06.94zm10 10l.94 2.06.94-2.06 2.06-.94-2.06-.94-.94-2.06-.94 2.06-2.06.94z\"/><path d=\"M17.41 7.96l-1.37-1.37c-.4-.4-.92-.59-1.43-.59-.52 0-1.04.2-1.43.59L10.3 9.45l-7.72 7.72c-.78.78-.78 2.05 0 2.83L4 21.41c.39.39.9.59 1.41.59.51 0 1.02-.2 1.41-.59l7.78-7.78 2.81-2.81c.8-.78.8-2.07 0-2.86zM5.41 20L4 18.59l7.72-7.72 1.47 1.35L5.41 20z\"/>\n",
              "  </svg>\n",
              "      </button>\n",
              "      \n",
              "  <style>\n",
              "    .colab-df-container {\n",
              "      display:flex;\n",
              "      flex-wrap:wrap;\n",
              "      gap: 12px;\n",
              "    }\n",
              "\n",
              "    .colab-df-convert {\n",
              "      background-color: #E8F0FE;\n",
              "      border: none;\n",
              "      border-radius: 50%;\n",
              "      cursor: pointer;\n",
              "      display: none;\n",
              "      fill: #1967D2;\n",
              "      height: 32px;\n",
              "      padding: 0 0 0 0;\n",
              "      width: 32px;\n",
              "    }\n",
              "\n",
              "    .colab-df-convert:hover {\n",
              "      background-color: #E2EBFA;\n",
              "      box-shadow: 0px 1px 2px rgba(60, 64, 67, 0.3), 0px 1px 3px 1px rgba(60, 64, 67, 0.15);\n",
              "      fill: #174EA6;\n",
              "    }\n",
              "\n",
              "    [theme=dark] .colab-df-convert {\n",
              "      background-color: #3B4455;\n",
              "      fill: #D2E3FC;\n",
              "    }\n",
              "\n",
              "    [theme=dark] .colab-df-convert:hover {\n",
              "      background-color: #434B5C;\n",
              "      box-shadow: 0px 1px 3px 1px rgba(0, 0, 0, 0.15);\n",
              "      filter: drop-shadow(0px 1px 2px rgba(0, 0, 0, 0.3));\n",
              "      fill: #FFFFFF;\n",
              "    }\n",
              "  </style>\n",
              "\n",
              "      <script>\n",
              "        const buttonEl =\n",
              "          document.querySelector('#df-f073d34d-7af1-4537-bf13-9e6e504558dc button.colab-df-convert');\n",
              "        buttonEl.style.display =\n",
              "          google.colab.kernel.accessAllowed ? 'block' : 'none';\n",
              "\n",
              "        async function convertToInteractive(key) {\n",
              "          const element = document.querySelector('#df-f073d34d-7af1-4537-bf13-9e6e504558dc');\n",
              "          const dataTable =\n",
              "            await google.colab.kernel.invokeFunction('convertToInteractive',\n",
              "                                                     [key], {});\n",
              "          if (!dataTable) return;\n",
              "\n",
              "          const docLinkHtml = 'Like what you see? Visit the ' +\n",
              "            '<a target=\"_blank\" href=https://colab.research.google.com/notebooks/data_table.ipynb>data table notebook</a>'\n",
              "            + ' to learn more about interactive tables.';\n",
              "          element.innerHTML = '';\n",
              "          dataTable['output_type'] = 'display_data';\n",
              "          await google.colab.output.renderOutput(dataTable, element);\n",
              "          const docLink = document.createElement('div');\n",
              "          docLink.innerHTML = docLinkHtml;\n",
              "          element.appendChild(docLink);\n",
              "        }\n",
              "      </script>\n",
              "    </div>\n",
              "  </div>\n",
              "  "
            ]
          },
          "metadata": {},
          "execution_count": 6
        }
      ]
    },
    {
      "cell_type": "code",
      "source": [
        "s1 = df.loc[5, ['start_add']]\n",
        "s1"
      ],
      "metadata": {
        "colab": {
          "base_uri": "https://localhost:8080/"
        },
        "id": "56CdgCBvRm80",
        "outputId": "5b2cb502-0de1-48bf-ea88-1f107bc9ef31"
      },
      "execution_count": 109,
      "outputs": [
        {
          "output_type": "execute_result",
          "data": {
            "text/plain": [
              "start_add    경기도 고양시 덕양구 화정1동 188-28\n",
              "Name: 5, dtype: object"
            ]
          },
          "metadata": {},
          "execution_count": 109
        }
      ]
    },
    {
      "cell_type": "code",
      "source": [
        "s1 = s1.values[0].split('-')[0]\n",
        "s1"
      ],
      "metadata": {
        "colab": {
          "base_uri": "https://localhost:8080/",
          "height": 35
        },
        "id": "TAFbYmwcRzj7",
        "outputId": "2813ee30-0004-471b-ca77-e9746f9a0404"
      },
      "execution_count": 110,
      "outputs": [
        {
          "output_type": "execute_result",
          "data": {
            "text/plain": [
              "'경기도 고양시 덕양구 화정1동 188'"
            ],
            "application/vnd.google.colaboratory.intrinsic+json": {
              "type": "string"
            }
          },
          "metadata": {},
          "execution_count": 110
        }
      ]
    },
    {
      "cell_type": "code",
      "source": [
        "s2 = int(s1.split(' ')[-1])\n",
        "\n",
        "s2 = str(s2//10*10)\n"
      ],
      "metadata": {
        "id": "Qky3nEjoSE8W"
      },
      "execution_count": 111,
      "outputs": []
    },
    {
      "cell_type": "code",
      "source": [
        "s1 = df.loc[5, ['start_add']].values[0].split(' ')[:-1]\n",
        "s1"
      ],
      "metadata": {
        "colab": {
          "base_uri": "https://localhost:8080/"
        },
        "id": "hMjQ9WpkYzhh",
        "outputId": "ca5a35a9-2b3c-4462-e3cd-c3ff2ec29f42"
      },
      "execution_count": 112,
      "outputs": [
        {
          "output_type": "execute_result",
          "data": {
            "text/plain": [
              "['경기도', '고양시', '덕양구', '화정1동']"
            ]
          },
          "metadata": {},
          "execution_count": 112
        }
      ]
    },
    {
      "cell_type": "code",
      "source": [
        "' '.join(s1)+' '+s2"
      ],
      "metadata": {
        "colab": {
          "base_uri": "https://localhost:8080/",
          "height": 35
        },
        "id": "_K2ZX1fGZGW3",
        "outputId": "c2cb9ca9-c360-4ba1-a96c-edde7d587fff"
      },
      "execution_count": 114,
      "outputs": [
        {
          "output_type": "execute_result",
          "data": {
            "text/plain": [
              "'경기도 고양시 덕양구 화정1동 180'"
            ],
            "application/vnd.google.colaboratory.intrinsic+json": {
              "type": "string"
            }
          },
          "metadata": {},
          "execution_count": 114
        }
      ]
    },
    {
      "cell_type": "markdown",
      "source": [
        "100으로 나누기"
      ],
      "metadata": {
        "id": "2FQl67rcZg8p"
      }
    },
    {
      "cell_type": "code",
      "source": [
        "s1 = df.loc[5, ['start_add']]\n",
        "s1"
      ],
      "metadata": {
        "colab": {
          "base_uri": "https://localhost:8080/"
        },
        "id": "6VN-fjR8ZgCY",
        "outputId": "35c0a517-e33a-40ee-c655-908f58274dfc"
      },
      "execution_count": 115,
      "outputs": [
        {
          "output_type": "execute_result",
          "data": {
            "text/plain": [
              "start_add    경기도 고양시 덕양구 화정1동 188-28\n",
              "Name: 5, dtype: object"
            ]
          },
          "metadata": {},
          "execution_count": 115
        }
      ]
    },
    {
      "cell_type": "code",
      "source": [
        "s1 = s1.values[0].split('-')[0]\n",
        "s1"
      ],
      "metadata": {
        "colab": {
          "base_uri": "https://localhost:8080/",
          "height": 35
        },
        "id": "US4nmeEMZk1f",
        "outputId": "e6982177-5c4c-49f6-e9cb-aa8c2e3b2f10"
      },
      "execution_count": 116,
      "outputs": [
        {
          "output_type": "execute_result",
          "data": {
            "text/plain": [
              "'경기도 고양시 덕양구 화정1동 188'"
            ],
            "application/vnd.google.colaboratory.intrinsic+json": {
              "type": "string"
            }
          },
          "metadata": {},
          "execution_count": 116
        }
      ]
    },
    {
      "cell_type": "code",
      "source": [
        "s2 = int(s1.split(' ')[-1])\n",
        "\n",
        "s2 = str(s2//100*100)"
      ],
      "metadata": {
        "id": "oUcdkJu1ZmsW"
      },
      "execution_count": 117,
      "outputs": []
    },
    {
      "cell_type": "code",
      "source": [
        "s1 = df.loc[5, ['start_add']].values[0].split(' ')[:-1]\n",
        "s1"
      ],
      "metadata": {
        "colab": {
          "base_uri": "https://localhost:8080/"
        },
        "id": "tZPK4EXKZsOw",
        "outputId": "be1cac56-d08e-4e6e-9fc9-61d61d91ddd1"
      },
      "execution_count": 118,
      "outputs": [
        {
          "output_type": "execute_result",
          "data": {
            "text/plain": [
              "['경기도', '고양시', '덕양구', '화정1동']"
            ]
          },
          "metadata": {},
          "execution_count": 118
        }
      ]
    },
    {
      "cell_type": "code",
      "source": [
        "' '.join(s1)+' '+s2"
      ],
      "metadata": {
        "colab": {
          "base_uri": "https://localhost:8080/",
          "height": 35
        },
        "id": "xm2v2YoyZvik",
        "outputId": "d6735c6f-d360-4bb0-fccf-315f70856787"
      },
      "execution_count": 119,
      "outputs": [
        {
          "output_type": "execute_result",
          "data": {
            "text/plain": [
              "'경기도 고양시 덕양구 화정1동 100'"
            ],
            "application/vnd.google.colaboratory.intrinsic+json": {
              "type": "string"
            }
          },
          "metadata": {},
          "execution_count": 119
        }
      ]
    }
  ]
}