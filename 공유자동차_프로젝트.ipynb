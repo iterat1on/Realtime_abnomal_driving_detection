{
  "nbformat": 4,
  "nbformat_minor": 0,
  "metadata": {
    "colab": {
      "name": "공유자동차 프로젝트",
      "provenance": [],
      "authorship_tag": "ABX9TyMl2mnQqLWOJ4XqdX3HOf2u",
      "include_colab_link": true
    },
    "kernelspec": {
      "name": "python3",
      "display_name": "Python 3"
    },
    "language_info": {
      "name": "python"
    }
  },
  "cells": [
    {
      "cell_type": "markdown",
      "metadata": {
        "id": "view-in-github",
        "colab_type": "text"
      },
      "source": [
        "<a href=\"https://colab.research.google.com/github/iterat1on/class/blob/main/%EA%B3%B5%EC%9C%A0%EC%9E%90%EB%8F%99%EC%B0%A8_%ED%94%84%EB%A1%9C%EC%A0%9D%ED%8A%B8.ipynb\" target=\"_parent\"><img src=\"https://colab.research.google.com/assets/colab-badge.svg\" alt=\"Open In Colab\"/></a>"
      ]
    },
    {
      "cell_type": "markdown",
      "source": [
        "## 데이터 적합"
      ],
      "metadata": {
        "id": "JW7ft78EdrCY"
      }
    },
    {
      "cell_type": "code",
      "source": [
        "from google.colab import drive\n",
        "drive.mount('/content/drive/')"
      ],
      "metadata": {
        "colab": {
          "base_uri": "https://localhost:8080/"
        },
        "id": "MWOmj4oTdu1P",
        "outputId": "9e960a70-3724-4a6f-929b-71c2c562adeb"
      },
      "execution_count": 1,
      "outputs": [
        {
          "output_type": "stream",
          "name": "stdout",
          "text": [
            "Mounted at /content/drive/\n"
          ]
        }
      ]
    },
    {
      "cell_type": "code",
      "source": [
        "import pandas as pd\n",
        "data = pd.read_csv('./drive/MyDrive/drive.csv', encoding='cp949')\n",
        "data.head()"
      ],
      "metadata": {
        "colab": {
          "base_uri": "https://localhost:8080/",
          "height": 384
        },
        "id": "CkH23Dwxd7Hl",
        "outputId": "505d17e1-766d-45fa-ec81-3d96cffd5222"
      },
      "execution_count": 2,
      "outputs": [
        {
          "output_type": "execute_result",
          "data": {
            "text/plain": [
              "     癤풼evice_id            s_date       s_odo   s_fuel            e_date  \\\n",
              "0  8.640000e+14  2021-06-08 11:00  21551318.0  190.190  2021-06-08 12:00   \n",
              "1  8.640000e+14  2021-06-08 11:00   9542999.0   65.065  2021-06-08 12:00   \n",
              "2  8.640000e+14  2021-06-08 11:00  11773612.0  257.257  2021-06-08 12:00   \n",
              "3  8.640000e+14  2021-06-08 12:00  21931809.9  205.205  2021-06-08 12:00   \n",
              "4  8.640000e+14  2021-06-08 12:00   9552543.0   80.080  2021-06-08 12:00   \n",
              "\n",
              "        e_odo   e_fuel       s_lng      s_lat       e_lng  ...  s120  s130  \\\n",
              "0  21561082.0  195.195  129.457853  35.553807  129.430710  ...   0.0   0.0   \n",
              "1   9542990.0   80.080  126.820977  37.653982  126.820917  ...   0.0   0.0   \n",
              "2  11774104.0  256.256  129.111962  35.134063  129.110948  ...   0.0   0.0   \n",
              "3  21931809.9  205.205  126.894073  37.447315  126.894073  ...   0.0   0.0   \n",
              "4   9543309.0   70.070  126.820917  37.653890  126.821823  ...   0.0   0.0   \n",
              "\n",
              "   s140  s150  s_can_batt_level  e_can_batt_level            reg_dt  \\\n",
              "0   0.0   0.0      -2522.056152          86.08600  2021-06-08 11:00   \n",
              "1   0.0   0.0         83.083000       -3158.85791  2021-06-08 11:00   \n",
              "2   0.0   0.0         85.085000          85.08500  2021-06-08 11:00   \n",
              "3   0.0   0.0        100.100000         100.10000  2021-06-08 12:00   \n",
              "4   0.0   0.0         83.083000          83.08300  2021-06-08 12:00   \n",
              "\n",
              "          unique_dt  complete_yn  gps_odo_yn  \n",
              "0  2021-06-08 11:00            1           0  \n",
              "1  2021-06-08 11:00            1           0  \n",
              "2  2021-06-08 11:00            1           0  \n",
              "3  2021-06-08 12:00            1           0  \n",
              "4  2021-06-08 12:00            1           0  \n",
              "\n",
              "[5 rows x 35 columns]"
            ],
            "text/html": [
              "\n",
              "  <div id=\"df-f792ee54-e08e-4f78-9936-fdac611c157b\">\n",
              "    <div class=\"colab-df-container\">\n",
              "      <div>\n",
              "<style scoped>\n",
              "    .dataframe tbody tr th:only-of-type {\n",
              "        vertical-align: middle;\n",
              "    }\n",
              "\n",
              "    .dataframe tbody tr th {\n",
              "        vertical-align: top;\n",
              "    }\n",
              "\n",
              "    .dataframe thead th {\n",
              "        text-align: right;\n",
              "    }\n",
              "</style>\n",
              "<table border=\"1\" class=\"dataframe\">\n",
              "  <thead>\n",
              "    <tr style=\"text-align: right;\">\n",
              "      <th></th>\n",
              "      <th>癤풼evice_id</th>\n",
              "      <th>s_date</th>\n",
              "      <th>s_odo</th>\n",
              "      <th>s_fuel</th>\n",
              "      <th>e_date</th>\n",
              "      <th>e_odo</th>\n",
              "      <th>e_fuel</th>\n",
              "      <th>s_lng</th>\n",
              "      <th>s_lat</th>\n",
              "      <th>e_lng</th>\n",
              "      <th>...</th>\n",
              "      <th>s120</th>\n",
              "      <th>s130</th>\n",
              "      <th>s140</th>\n",
              "      <th>s150</th>\n",
              "      <th>s_can_batt_level</th>\n",
              "      <th>e_can_batt_level</th>\n",
              "      <th>reg_dt</th>\n",
              "      <th>unique_dt</th>\n",
              "      <th>complete_yn</th>\n",
              "      <th>gps_odo_yn</th>\n",
              "    </tr>\n",
              "  </thead>\n",
              "  <tbody>\n",
              "    <tr>\n",
              "      <th>0</th>\n",
              "      <td>8.640000e+14</td>\n",
              "      <td>2021-06-08 11:00</td>\n",
              "      <td>21551318.0</td>\n",
              "      <td>190.190</td>\n",
              "      <td>2021-06-08 12:00</td>\n",
              "      <td>21561082.0</td>\n",
              "      <td>195.195</td>\n",
              "      <td>129.457853</td>\n",
              "      <td>35.553807</td>\n",
              "      <td>129.430710</td>\n",
              "      <td>...</td>\n",
              "      <td>0.0</td>\n",
              "      <td>0.0</td>\n",
              "      <td>0.0</td>\n",
              "      <td>0.0</td>\n",
              "      <td>-2522.056152</td>\n",
              "      <td>86.08600</td>\n",
              "      <td>2021-06-08 11:00</td>\n",
              "      <td>2021-06-08 11:00</td>\n",
              "      <td>1</td>\n",
              "      <td>0</td>\n",
              "    </tr>\n",
              "    <tr>\n",
              "      <th>1</th>\n",
              "      <td>8.640000e+14</td>\n",
              "      <td>2021-06-08 11:00</td>\n",
              "      <td>9542999.0</td>\n",
              "      <td>65.065</td>\n",
              "      <td>2021-06-08 12:00</td>\n",
              "      <td>9542990.0</td>\n",
              "      <td>80.080</td>\n",
              "      <td>126.820977</td>\n",
              "      <td>37.653982</td>\n",
              "      <td>126.820917</td>\n",
              "      <td>...</td>\n",
              "      <td>0.0</td>\n",
              "      <td>0.0</td>\n",
              "      <td>0.0</td>\n",
              "      <td>0.0</td>\n",
              "      <td>83.083000</td>\n",
              "      <td>-3158.85791</td>\n",
              "      <td>2021-06-08 11:00</td>\n",
              "      <td>2021-06-08 11:00</td>\n",
              "      <td>1</td>\n",
              "      <td>0</td>\n",
              "    </tr>\n",
              "    <tr>\n",
              "      <th>2</th>\n",
              "      <td>8.640000e+14</td>\n",
              "      <td>2021-06-08 11:00</td>\n",
              "      <td>11773612.0</td>\n",
              "      <td>257.257</td>\n",
              "      <td>2021-06-08 12:00</td>\n",
              "      <td>11774104.0</td>\n",
              "      <td>256.256</td>\n",
              "      <td>129.111962</td>\n",
              "      <td>35.134063</td>\n",
              "      <td>129.110948</td>\n",
              "      <td>...</td>\n",
              "      <td>0.0</td>\n",
              "      <td>0.0</td>\n",
              "      <td>0.0</td>\n",
              "      <td>0.0</td>\n",
              "      <td>85.085000</td>\n",
              "      <td>85.08500</td>\n",
              "      <td>2021-06-08 11:00</td>\n",
              "      <td>2021-06-08 11:00</td>\n",
              "      <td>1</td>\n",
              "      <td>0</td>\n",
              "    </tr>\n",
              "    <tr>\n",
              "      <th>3</th>\n",
              "      <td>8.640000e+14</td>\n",
              "      <td>2021-06-08 12:00</td>\n",
              "      <td>21931809.9</td>\n",
              "      <td>205.205</td>\n",
              "      <td>2021-06-08 12:00</td>\n",
              "      <td>21931809.9</td>\n",
              "      <td>205.205</td>\n",
              "      <td>126.894073</td>\n",
              "      <td>37.447315</td>\n",
              "      <td>126.894073</td>\n",
              "      <td>...</td>\n",
              "      <td>0.0</td>\n",
              "      <td>0.0</td>\n",
              "      <td>0.0</td>\n",
              "      <td>0.0</td>\n",
              "      <td>100.100000</td>\n",
              "      <td>100.10000</td>\n",
              "      <td>2021-06-08 12:00</td>\n",
              "      <td>2021-06-08 12:00</td>\n",
              "      <td>1</td>\n",
              "      <td>0</td>\n",
              "    </tr>\n",
              "    <tr>\n",
              "      <th>4</th>\n",
              "      <td>8.640000e+14</td>\n",
              "      <td>2021-06-08 12:00</td>\n",
              "      <td>9552543.0</td>\n",
              "      <td>80.080</td>\n",
              "      <td>2021-06-08 12:00</td>\n",
              "      <td>9543309.0</td>\n",
              "      <td>70.070</td>\n",
              "      <td>126.820917</td>\n",
              "      <td>37.653890</td>\n",
              "      <td>126.821823</td>\n",
              "      <td>...</td>\n",
              "      <td>0.0</td>\n",
              "      <td>0.0</td>\n",
              "      <td>0.0</td>\n",
              "      <td>0.0</td>\n",
              "      <td>83.083000</td>\n",
              "      <td>83.08300</td>\n",
              "      <td>2021-06-08 12:00</td>\n",
              "      <td>2021-06-08 12:00</td>\n",
              "      <td>1</td>\n",
              "      <td>0</td>\n",
              "    </tr>\n",
              "  </tbody>\n",
              "</table>\n",
              "<p>5 rows × 35 columns</p>\n",
              "</div>\n",
              "      <button class=\"colab-df-convert\" onclick=\"convertToInteractive('df-f792ee54-e08e-4f78-9936-fdac611c157b')\"\n",
              "              title=\"Convert this dataframe to an interactive table.\"\n",
              "              style=\"display:none;\">\n",
              "        \n",
              "  <svg xmlns=\"http://www.w3.org/2000/svg\" height=\"24px\"viewBox=\"0 0 24 24\"\n",
              "       width=\"24px\">\n",
              "    <path d=\"M0 0h24v24H0V0z\" fill=\"none\"/>\n",
              "    <path d=\"M18.56 5.44l.94 2.06.94-2.06 2.06-.94-2.06-.94-.94-2.06-.94 2.06-2.06.94zm-11 1L8.5 8.5l.94-2.06 2.06-.94-2.06-.94L8.5 2.5l-.94 2.06-2.06.94zm10 10l.94 2.06.94-2.06 2.06-.94-2.06-.94-.94-2.06-.94 2.06-2.06.94z\"/><path d=\"M17.41 7.96l-1.37-1.37c-.4-.4-.92-.59-1.43-.59-.52 0-1.04.2-1.43.59L10.3 9.45l-7.72 7.72c-.78.78-.78 2.05 0 2.83L4 21.41c.39.39.9.59 1.41.59.51 0 1.02-.2 1.41-.59l7.78-7.78 2.81-2.81c.8-.78.8-2.07 0-2.86zM5.41 20L4 18.59l7.72-7.72 1.47 1.35L5.41 20z\"/>\n",
              "  </svg>\n",
              "      </button>\n",
              "      \n",
              "  <style>\n",
              "    .colab-df-container {\n",
              "      display:flex;\n",
              "      flex-wrap:wrap;\n",
              "      gap: 12px;\n",
              "    }\n",
              "\n",
              "    .colab-df-convert {\n",
              "      background-color: #E8F0FE;\n",
              "      border: none;\n",
              "      border-radius: 50%;\n",
              "      cursor: pointer;\n",
              "      display: none;\n",
              "      fill: #1967D2;\n",
              "      height: 32px;\n",
              "      padding: 0 0 0 0;\n",
              "      width: 32px;\n",
              "    }\n",
              "\n",
              "    .colab-df-convert:hover {\n",
              "      background-color: #E2EBFA;\n",
              "      box-shadow: 0px 1px 2px rgba(60, 64, 67, 0.3), 0px 1px 3px 1px rgba(60, 64, 67, 0.15);\n",
              "      fill: #174EA6;\n",
              "    }\n",
              "\n",
              "    [theme=dark] .colab-df-convert {\n",
              "      background-color: #3B4455;\n",
              "      fill: #D2E3FC;\n",
              "    }\n",
              "\n",
              "    [theme=dark] .colab-df-convert:hover {\n",
              "      background-color: #434B5C;\n",
              "      box-shadow: 0px 1px 3px 1px rgba(0, 0, 0, 0.15);\n",
              "      filter: drop-shadow(0px 1px 2px rgba(0, 0, 0, 0.3));\n",
              "      fill: #FFFFFF;\n",
              "    }\n",
              "  </style>\n",
              "\n",
              "      <script>\n",
              "        const buttonEl =\n",
              "          document.querySelector('#df-f792ee54-e08e-4f78-9936-fdac611c157b button.colab-df-convert');\n",
              "        buttonEl.style.display =\n",
              "          google.colab.kernel.accessAllowed ? 'block' : 'none';\n",
              "\n",
              "        async function convertToInteractive(key) {\n",
              "          const element = document.querySelector('#df-f792ee54-e08e-4f78-9936-fdac611c157b');\n",
              "          const dataTable =\n",
              "            await google.colab.kernel.invokeFunction('convertToInteractive',\n",
              "                                                     [key], {});\n",
              "          if (!dataTable) return;\n",
              "\n",
              "          const docLinkHtml = 'Like what you see? Visit the ' +\n",
              "            '<a target=\"_blank\" href=https://colab.research.google.com/notebooks/data_table.ipynb>data table notebook</a>'\n",
              "            + ' to learn more about interactive tables.';\n",
              "          element.innerHTML = '';\n",
              "          dataTable['output_type'] = 'display_data';\n",
              "          await google.colab.output.renderOutput(dataTable, element);\n",
              "          const docLink = document.createElement('div');\n",
              "          docLink.innerHTML = docLinkHtml;\n",
              "          element.appendChild(docLink);\n",
              "        }\n",
              "      </script>\n",
              "    </div>\n",
              "  </div>\n",
              "  "
            ]
          },
          "metadata": {},
          "execution_count": 2
        }
      ]
    },
    {
      "cell_type": "code",
      "source": [
        "data.info()"
      ],
      "metadata": {
        "colab": {
          "base_uri": "https://localhost:8080/"
        },
        "id": "tljI4He9eEow",
        "outputId": "c30c31a5-64b7-475f-f815-c09b2b278e25"
      },
      "execution_count": 3,
      "outputs": [
        {
          "output_type": "stream",
          "name": "stdout",
          "text": [
            "<class 'pandas.core.frame.DataFrame'>\n",
            "RangeIndex: 10000 entries, 0 to 9999\n",
            "Data columns (total 35 columns):\n",
            " #   Column            Non-Null Count  Dtype  \n",
            "---  ------            --------------  -----  \n",
            " 0   癤풼evice_id        10000 non-null  float64\n",
            " 1   s_date            10000 non-null  object \n",
            " 2   s_odo             10000 non-null  float64\n",
            " 3   s_fuel            10000 non-null  float64\n",
            " 4   e_date            10000 non-null  object \n",
            " 5   e_odo             10000 non-null  float64\n",
            " 6   e_fuel            10000 non-null  float64\n",
            " 7   s_lng             10000 non-null  float64\n",
            " 8   s_lat             10000 non-null  float64\n",
            " 9   e_lng             10000 non-null  float64\n",
            " 10  e_lat             10000 non-null  float64\n",
            " 11  s_gps_odo         10000 non-null  float64\n",
            " 12  e_gps_odo         10000 non-null  float64\n",
            " 13  idle_time         10000 non-null  float64\n",
            " 14  max_rpm           10000 non-null  float64\n",
            " 15  s20               10000 non-null  float64\n",
            " 16  s30               10000 non-null  float64\n",
            " 17  s40               10000 non-null  float64\n",
            " 18  s50               10000 non-null  float64\n",
            " 19  s60               10000 non-null  float64\n",
            " 20  s70               10000 non-null  float64\n",
            " 21  s80               10000 non-null  float64\n",
            " 22  s90               10000 non-null  float64\n",
            " 23  s100              10000 non-null  float64\n",
            " 24  s110              10000 non-null  float64\n",
            " 25  s120              10000 non-null  float64\n",
            " 26  s130              10000 non-null  float64\n",
            " 27  s140              10000 non-null  float64\n",
            " 28  s150              10000 non-null  float64\n",
            " 29  s_can_batt_level  10000 non-null  float64\n",
            " 30  e_can_batt_level  10000 non-null  float64\n",
            " 31  reg_dt            10000 non-null  object \n",
            " 32  unique_dt         10000 non-null  object \n",
            " 33  complete_yn       10000 non-null  int64  \n",
            " 34  gps_odo_yn        10000 non-null  int64  \n",
            "dtypes: float64(29), int64(2), object(4)\n",
            "memory usage: 2.7+ MB\n"
          ]
        }
      ]
    },
    {
      "cell_type": "markdown",
      "source": [
        "## 전처리"
      ],
      "metadata": {
        "id": "PWNc1kmWeJq7"
      }
    },
    {
      "cell_type": "markdown",
      "source": [
        "### 필요한 변수만 추출"
      ],
      "metadata": {
        "id": "oXVx_FJfeOye"
      }
    },
    {
      "cell_type": "code",
      "source": [
        "l1 = ['s_lng', 's_lat', 'e_lng', 'e_lat', 'max_rpm']\n",
        "l2  =['s'+str(i) for i in range(20, 160, 10)]\n",
        "v_list = l1+l2\n",
        "v_list"
      ],
      "metadata": {
        "colab": {
          "base_uri": "https://localhost:8080/"
        },
        "id": "YCUKewibetE2",
        "outputId": "d952d78d-5030-4942-d217-10f114a45cd1"
      },
      "execution_count": 4,
      "outputs": [
        {
          "output_type": "execute_result",
          "data": {
            "text/plain": [
              "['s_lng',\n",
              " 's_lat',\n",
              " 'e_lng',\n",
              " 'e_lat',\n",
              " 'max_rpm',\n",
              " 's20',\n",
              " 's30',\n",
              " 's40',\n",
              " 's50',\n",
              " 's60',\n",
              " 's70',\n",
              " 's80',\n",
              " 's90',\n",
              " 's100',\n",
              " 's110',\n",
              " 's120',\n",
              " 's130',\n",
              " 's140',\n",
              " 's150']"
            ]
          },
          "metadata": {},
          "execution_count": 4
        }
      ]
    },
    {
      "cell_type": "code",
      "source": [
        "df = data[v_list]\n",
        "df.head()"
      ],
      "metadata": {
        "colab": {
          "base_uri": "https://localhost:8080/",
          "height": 206
        },
        "id": "lF1Z9osbgC5q",
        "outputId": "30ed13de-9881-4c70-d670-7f97190472d7"
      },
      "execution_count": 5,
      "outputs": [
        {
          "output_type": "execute_result",
          "data": {
            "text/plain": [
              "        s_lng      s_lat       e_lng      e_lat   max_rpm         s20  \\\n",
              "0  129.457853  35.553807  129.430710  35.493978  2437.435  147.147000   \n",
              "1  126.820977  37.653982  126.820917  37.653890     0.000    0.000000   \n",
              "2  129.111962  35.134063  129.110948  35.133873  1551.550   49.490097   \n",
              "3  126.894073  37.447315  126.894073  37.447315     0.000    0.000000   \n",
              "4  126.820917  37.653890  126.821823  37.656342  1573.572    0.000000   \n",
              "\n",
              "          s30         s40      s50       s60  s70  s80  s90  s100  s110  s120  \\\n",
              "0  123.401146  142.897461  259.259  28.77523  0.0  0.0  0.0   0.0   0.0   0.0   \n",
              "1    0.000000    0.000000    0.000   0.00000  0.0  0.0  0.0   0.0   0.0   0.0   \n",
              "2    0.000000    0.000000    0.000   0.00000  0.0  0.0  0.0   0.0   0.0   0.0   \n",
              "3    0.000000    0.000000    0.000   0.00000  0.0  0.0  0.0   0.0   0.0   0.0   \n",
              "4    9.009000    0.000000    0.000   0.00000  0.0  0.0  0.0   0.0   0.0   0.0   \n",
              "\n",
              "   s130  s140  s150  \n",
              "0   0.0   0.0   0.0  \n",
              "1   0.0   0.0   0.0  \n",
              "2   0.0   0.0   0.0  \n",
              "3   0.0   0.0   0.0  \n",
              "4   0.0   0.0   0.0  "
            ],
            "text/html": [
              "\n",
              "  <div id=\"df-bb8bd69d-f9c6-48b9-b761-aa00fe597589\">\n",
              "    <div class=\"colab-df-container\">\n",
              "      <div>\n",
              "<style scoped>\n",
              "    .dataframe tbody tr th:only-of-type {\n",
              "        vertical-align: middle;\n",
              "    }\n",
              "\n",
              "    .dataframe tbody tr th {\n",
              "        vertical-align: top;\n",
              "    }\n",
              "\n",
              "    .dataframe thead th {\n",
              "        text-align: right;\n",
              "    }\n",
              "</style>\n",
              "<table border=\"1\" class=\"dataframe\">\n",
              "  <thead>\n",
              "    <tr style=\"text-align: right;\">\n",
              "      <th></th>\n",
              "      <th>s_lng</th>\n",
              "      <th>s_lat</th>\n",
              "      <th>e_lng</th>\n",
              "      <th>e_lat</th>\n",
              "      <th>max_rpm</th>\n",
              "      <th>s20</th>\n",
              "      <th>s30</th>\n",
              "      <th>s40</th>\n",
              "      <th>s50</th>\n",
              "      <th>s60</th>\n",
              "      <th>s70</th>\n",
              "      <th>s80</th>\n",
              "      <th>s90</th>\n",
              "      <th>s100</th>\n",
              "      <th>s110</th>\n",
              "      <th>s120</th>\n",
              "      <th>s130</th>\n",
              "      <th>s140</th>\n",
              "      <th>s150</th>\n",
              "    </tr>\n",
              "  </thead>\n",
              "  <tbody>\n",
              "    <tr>\n",
              "      <th>0</th>\n",
              "      <td>129.457853</td>\n",
              "      <td>35.553807</td>\n",
              "      <td>129.430710</td>\n",
              "      <td>35.493978</td>\n",
              "      <td>2437.435</td>\n",
              "      <td>147.147000</td>\n",
              "      <td>123.401146</td>\n",
              "      <td>142.897461</td>\n",
              "      <td>259.259</td>\n",
              "      <td>28.77523</td>\n",
              "      <td>0.0</td>\n",
              "      <td>0.0</td>\n",
              "      <td>0.0</td>\n",
              "      <td>0.0</td>\n",
              "      <td>0.0</td>\n",
              "      <td>0.0</td>\n",
              "      <td>0.0</td>\n",
              "      <td>0.0</td>\n",
              "      <td>0.0</td>\n",
              "    </tr>\n",
              "    <tr>\n",
              "      <th>1</th>\n",
              "      <td>126.820977</td>\n",
              "      <td>37.653982</td>\n",
              "      <td>126.820917</td>\n",
              "      <td>37.653890</td>\n",
              "      <td>0.000</td>\n",
              "      <td>0.000000</td>\n",
              "      <td>0.000000</td>\n",
              "      <td>0.000000</td>\n",
              "      <td>0.000</td>\n",
              "      <td>0.00000</td>\n",
              "      <td>0.0</td>\n",
              "      <td>0.0</td>\n",
              "      <td>0.0</td>\n",
              "      <td>0.0</td>\n",
              "      <td>0.0</td>\n",
              "      <td>0.0</td>\n",
              "      <td>0.0</td>\n",
              "      <td>0.0</td>\n",
              "      <td>0.0</td>\n",
              "    </tr>\n",
              "    <tr>\n",
              "      <th>2</th>\n",
              "      <td>129.111962</td>\n",
              "      <td>35.134063</td>\n",
              "      <td>129.110948</td>\n",
              "      <td>35.133873</td>\n",
              "      <td>1551.550</td>\n",
              "      <td>49.490097</td>\n",
              "      <td>0.000000</td>\n",
              "      <td>0.000000</td>\n",
              "      <td>0.000</td>\n",
              "      <td>0.00000</td>\n",
              "      <td>0.0</td>\n",
              "      <td>0.0</td>\n",
              "      <td>0.0</td>\n",
              "      <td>0.0</td>\n",
              "      <td>0.0</td>\n",
              "      <td>0.0</td>\n",
              "      <td>0.0</td>\n",
              "      <td>0.0</td>\n",
              "      <td>0.0</td>\n",
              "    </tr>\n",
              "    <tr>\n",
              "      <th>3</th>\n",
              "      <td>126.894073</td>\n",
              "      <td>37.447315</td>\n",
              "      <td>126.894073</td>\n",
              "      <td>37.447315</td>\n",
              "      <td>0.000</td>\n",
              "      <td>0.000000</td>\n",
              "      <td>0.000000</td>\n",
              "      <td>0.000000</td>\n",
              "      <td>0.000</td>\n",
              "      <td>0.00000</td>\n",
              "      <td>0.0</td>\n",
              "      <td>0.0</td>\n",
              "      <td>0.0</td>\n",
              "      <td>0.0</td>\n",
              "      <td>0.0</td>\n",
              "      <td>0.0</td>\n",
              "      <td>0.0</td>\n",
              "      <td>0.0</td>\n",
              "      <td>0.0</td>\n",
              "    </tr>\n",
              "    <tr>\n",
              "      <th>4</th>\n",
              "      <td>126.820917</td>\n",
              "      <td>37.653890</td>\n",
              "      <td>126.821823</td>\n",
              "      <td>37.656342</td>\n",
              "      <td>1573.572</td>\n",
              "      <td>0.000000</td>\n",
              "      <td>9.009000</td>\n",
              "      <td>0.000000</td>\n",
              "      <td>0.000</td>\n",
              "      <td>0.00000</td>\n",
              "      <td>0.0</td>\n",
              "      <td>0.0</td>\n",
              "      <td>0.0</td>\n",
              "      <td>0.0</td>\n",
              "      <td>0.0</td>\n",
              "      <td>0.0</td>\n",
              "      <td>0.0</td>\n",
              "      <td>0.0</td>\n",
              "      <td>0.0</td>\n",
              "    </tr>\n",
              "  </tbody>\n",
              "</table>\n",
              "</div>\n",
              "      <button class=\"colab-df-convert\" onclick=\"convertToInteractive('df-bb8bd69d-f9c6-48b9-b761-aa00fe597589')\"\n",
              "              title=\"Convert this dataframe to an interactive table.\"\n",
              "              style=\"display:none;\">\n",
              "        \n",
              "  <svg xmlns=\"http://www.w3.org/2000/svg\" height=\"24px\"viewBox=\"0 0 24 24\"\n",
              "       width=\"24px\">\n",
              "    <path d=\"M0 0h24v24H0V0z\" fill=\"none\"/>\n",
              "    <path d=\"M18.56 5.44l.94 2.06.94-2.06 2.06-.94-2.06-.94-.94-2.06-.94 2.06-2.06.94zm-11 1L8.5 8.5l.94-2.06 2.06-.94-2.06-.94L8.5 2.5l-.94 2.06-2.06.94zm10 10l.94 2.06.94-2.06 2.06-.94-2.06-.94-.94-2.06-.94 2.06-2.06.94z\"/><path d=\"M17.41 7.96l-1.37-1.37c-.4-.4-.92-.59-1.43-.59-.52 0-1.04.2-1.43.59L10.3 9.45l-7.72 7.72c-.78.78-.78 2.05 0 2.83L4 21.41c.39.39.9.59 1.41.59.51 0 1.02-.2 1.41-.59l7.78-7.78 2.81-2.81c.8-.78.8-2.07 0-2.86zM5.41 20L4 18.59l7.72-7.72 1.47 1.35L5.41 20z\"/>\n",
              "  </svg>\n",
              "      </button>\n",
              "      \n",
              "  <style>\n",
              "    .colab-df-container {\n",
              "      display:flex;\n",
              "      flex-wrap:wrap;\n",
              "      gap: 12px;\n",
              "    }\n",
              "\n",
              "    .colab-df-convert {\n",
              "      background-color: #E8F0FE;\n",
              "      border: none;\n",
              "      border-radius: 50%;\n",
              "      cursor: pointer;\n",
              "      display: none;\n",
              "      fill: #1967D2;\n",
              "      height: 32px;\n",
              "      padding: 0 0 0 0;\n",
              "      width: 32px;\n",
              "    }\n",
              "\n",
              "    .colab-df-convert:hover {\n",
              "      background-color: #E2EBFA;\n",
              "      box-shadow: 0px 1px 2px rgba(60, 64, 67, 0.3), 0px 1px 3px 1px rgba(60, 64, 67, 0.15);\n",
              "      fill: #174EA6;\n",
              "    }\n",
              "\n",
              "    [theme=dark] .colab-df-convert {\n",
              "      background-color: #3B4455;\n",
              "      fill: #D2E3FC;\n",
              "    }\n",
              "\n",
              "    [theme=dark] .colab-df-convert:hover {\n",
              "      background-color: #434B5C;\n",
              "      box-shadow: 0px 1px 3px 1px rgba(0, 0, 0, 0.15);\n",
              "      filter: drop-shadow(0px 1px 2px rgba(0, 0, 0, 0.3));\n",
              "      fill: #FFFFFF;\n",
              "    }\n",
              "  </style>\n",
              "\n",
              "      <script>\n",
              "        const buttonEl =\n",
              "          document.querySelector('#df-bb8bd69d-f9c6-48b9-b761-aa00fe597589 button.colab-df-convert');\n",
              "        buttonEl.style.display =\n",
              "          google.colab.kernel.accessAllowed ? 'block' : 'none';\n",
              "\n",
              "        async function convertToInteractive(key) {\n",
              "          const element = document.querySelector('#df-bb8bd69d-f9c6-48b9-b761-aa00fe597589');\n",
              "          const dataTable =\n",
              "            await google.colab.kernel.invokeFunction('convertToInteractive',\n",
              "                                                     [key], {});\n",
              "          if (!dataTable) return;\n",
              "\n",
              "          const docLinkHtml = 'Like what you see? Visit the ' +\n",
              "            '<a target=\"_blank\" href=https://colab.research.google.com/notebooks/data_table.ipynb>data table notebook</a>'\n",
              "            + ' to learn more about interactive tables.';\n",
              "          element.innerHTML = '';\n",
              "          dataTable['output_type'] = 'display_data';\n",
              "          await google.colab.output.renderOutput(dataTable, element);\n",
              "          const docLink = document.createElement('div');\n",
              "          docLink.innerHTML = docLinkHtml;\n",
              "          element.appendChild(docLink);\n",
              "        }\n",
              "      </script>\n",
              "    </div>\n",
              "  </div>\n",
              "  "
            ]
          },
          "metadata": {},
          "execution_count": 5
        }
      ]
    },
    {
      "cell_type": "markdown",
      "source": [
        "### 지역, 도로 정보 columns 생성"
      ],
      "metadata": {
        "id": "mwwwOjntgKDb"
      }
    },
    {
      "cell_type": "code",
      "source": [
        "import pandas as pd\n",
        "import requests\n",
        "import sys\n",
        "import json\n",
        "import datetime"
      ],
      "metadata": {
        "id": "FGuvPaGSgHoQ"
      },
      "execution_count": 6,
      "outputs": []
    },
    {
      "cell_type": "markdown",
      "source": [
        "### API 이용을 위한 전처리"
      ],
      "metadata": {
        "id": "swDNFjFkgaVD"
      }
    },
    {
      "cell_type": "code",
      "source": [
        "def json_request(url='', encoding='utf-8', success=None,\n",
        "                 error=lambda e: print('%s : %s' % (e, datetime.now()), file=sys.stderr)):\n",
        "    headers = {'Authorization': 'KakaoAK {}'.format(APP_KEY)}\n",
        "    resp = requests.get(url, headers=headers)\n",
        "    return resp.text"
      ],
      "metadata": {
        "id": "Pnxi4g1UgWTv"
      },
      "execution_count": 34,
      "outputs": []
    },
    {
      "cell_type": "code",
      "source": [
        "def reverse_geocode(longitude, latitude):\n",
        "\n",
        "    url = '%s?x=%s&y=%s' % (URL, longitude, latitude)\n",
        "\n",
        "    try:\n",
        "\n",
        "        json_req = json_request(url=url)\n",
        "        json_data = json.loads(json_req)\n",
        "        json_doc = json_data.get('documents')[0]\n",
        "        json_name = json_doc.get('address_name')\n",
        "        json_region_1depth_name = json_doc.get('region_1depth_name')\n",
        "        json_region_2depth_name = json_doc.get('region_2depth_name')\n",
        "        json_region_3depth_name = json_doc.get('region_3depth_name')\n",
        "    except:\n",
        "\n",
        "        json_name = 'NaN'\n",
        "        json_region_1depth_name = 'NaN'\n",
        "        json_region_2depth_name = 'NaN'\n",
        "        json_region_3depth_name = 'NaN'\n",
        "    return json_name, json_region_1depth_name, json_region_2depth_name, json_region_3depth_name\n",
        "\n",
        "\n",
        "def get_address(x, y):\n",
        "    address = []\n",
        "    json_name, json_region_1depth_name, json_region_2depth_name, json_region_3depth_name = reverse_geocode(x, y)\n",
        "    address.append(json_name)\n",
        "    return address\n",
        "\n",
        "\n",
        "def get_r1(x, y):\n",
        "    region_1 = []\n",
        "    json_name, json_region_1depth_name, json_region_2depth_name, json_region_3depth_name = reverse_geocode(x, y)\n",
        "    region_1.append(json_region_1depth_name)\n",
        "    return region_1\n",
        "\n",
        "def get_r2(x, y):\n",
        "    region_2 = []\n",
        "    json_name, json_region_1depth_name, json_region_2depth_name, json_region_3depth_name = reverse_geocode(x, y)\n",
        "    region_2.append(json_region_2depth_name)\n",
        "    return region_2\n",
        "\n",
        "def get_r3(x, y):\n",
        "    region_3 = []\n",
        "    json_name, json_region_1depth_name, json_region_2depth_name, json_region_3depth_name = reverse_geocode(x, y)\n",
        "    region_3.append(json_region_3depth_name)\n",
        "    return region_3"
      ],
      "metadata": {
        "id": "54DZGiTwgi0O"
      },
      "execution_count": 35,
      "outputs": []
    },
    {
      "cell_type": "markdown",
      "source": [
        "### API Key 와 JSON 파일 location 지정"
      ],
      "metadata": {
        "id": "e0Ox7Rhlg5DV"
      }
    },
    {
      "cell_type": "code",
      "source": [
        "APP_KEY = '94bef889088a91307d68ea7f24fa1f88' # 개인키로 각자 수정 필요\n",
        "URL = 'https://dapi.kakao.com/v2/local/geo/coord2regioncode.json'"
      ],
      "metadata": {
        "id": "g9Cpox8Ug1Xa"
      },
      "execution_count": 36,
      "outputs": []
    },
    {
      "cell_type": "code",
      "source": [
        "i = 7\n",
        "x_start_crd = float(df.loc[i, ['s_lng']])\n",
        "y_start_crd = float(df.loc[i, ['s_lat']])\n",
        "x_end_crd = float(df.loc[i, ['e_lng']])\n",
        "y_end_crd = float(df.loc[i, ['e_lat']])"
      ],
      "metadata": {
        "id": "7nejMYb0iogF"
      },
      "execution_count": 73,
      "outputs": []
    },
    {
      "cell_type": "code",
      "source": [
        "def allo_data(x1, y1, x2, y2) :\n",
        "\n",
        "    df.loc[i, ['start_add']] = get_address(x1, y1)\n",
        "    df.loc[i, ['start_r1']] = get_r1(x1, y1)\n",
        "    df.loc[i, ['start_r2']] = get_r2(x1, y1)\n",
        "    df.loc[i, ['start_r3']] = get_r3(x1, y1)\n",
        "\n",
        "    df.loc[i, ['end_add']] = get_address(x2, y2)\n",
        "    df.loc[i, ['end_r1']] = get_r1(x2, y2)\n",
        "    df.loc[i, ['end_r2']] = get_r2(x2, y2)\n",
        "    df.loc[i, ['end_r3']] = get_r3(x2, y2)"
      ],
      "metadata": {
        "id": "xprZNfJAiNwn"
      },
      "execution_count": 74,
      "outputs": []
    },
    {
      "cell_type": "code",
      "source": [
        "for i in range(len(df)) :\n",
        "  allo_data(x_start_crd, y_start_crd, x_end_crd, y_end_crd)"
      ],
      "metadata": {
        "colab": {
          "base_uri": "https://localhost:8080/"
        },
        "id": "flQH-ScymP1I",
        "outputId": "69385e38-7967-4e1a-96e3-46fbae40b091"
      },
      "execution_count": null,
      "outputs": [
        {
          "metadata": {
            "tags": null
          },
          "name": "stderr",
          "output_type": "stream",
          "text": [
            "/usr/local/lib/python3.7/dist-packages/pandas/core/indexing.py:1797: SettingWithCopyWarning: \n",
            "A value is trying to be set on a copy of a slice from a DataFrame.\n",
            "Try using .loc[row_indexer,col_indexer] = value instead\n",
            "\n",
            "See the caveats in the documentation: https://pandas.pydata.org/pandas-docs/stable/user_guide/indexing.html#returning-a-view-versus-a-copy\n",
            "  self._setitem_single_column(loc, v, pi)\n"
          ]
        }
      ]
    },
    {
      "cell_type": "code",
      "source": [
        "df"
      ],
      "metadata": {
        "colab": {
          "base_uri": "https://localhost:8080/"
        },
        "id": "Eu2Ejw32qku6",
        "outputId": "9e94c4fb-bc5b-4c42-98a0-f73fcac60625"
      },
      "execution_count": 72,
      "outputs": [
        {
          "output_type": "execute_result",
          "data": {
            "text/plain": [
              "s_lng          129.043283\n",
              "s_lat           35.357257\n",
              "e_lng          129.260437\n",
              "e_lat           35.531907\n",
              "max_rpm          3748.745\n",
              "s20                88.088\n",
              "s30                57.057\n",
              "s40                79.079\n",
              "s50               225.225\n",
              "s60                79.079\n",
              "s70            207.917694\n",
              "s80               285.285\n",
              "s90            754.309265\n",
              "s100           142.902069\n",
              "s110                  0.0\n",
              "s120                  0.0\n",
              "s130                  0.0\n",
              "s140                  0.0\n",
              "s150                  0.0\n",
              "start_add    경상남도 양산시 북정동\n",
              "start_r1             경상남도\n",
              "start_r2              양산시\n",
              "start_r3              북정동\n",
              "end_add       울산광역시 남구 옥동\n",
              "end_r1              울산광역시\n",
              "end_r2                 남구\n",
              "end_r3                 옥동\n",
              "Name: 7, dtype: object"
            ]
          },
          "metadata": {},
          "execution_count": 72
        }
      ]
    },
    {
      "cell_type": "code",
      "source": [
        "df.to_csv('final_set.csv')"
      ],
      "metadata": {
        "id": "AEfUgVy9uTsC"
      },
      "execution_count": null,
      "outputs": []
    }
  ]
}