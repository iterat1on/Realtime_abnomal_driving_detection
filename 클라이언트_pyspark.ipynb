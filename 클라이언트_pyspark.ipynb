{
 "cells": [
  {
   "cell_type": "code",
   "execution_count": 2,
   "id": "5dc71bfa",
   "metadata": {},
   "outputs": [
    {
     "ename": "UnicodeDecodeError",
     "evalue": "'cp949' codec can't decode byte 0x80 in position 190: illegal multibyte sequence",
     "output_type": "error",
     "traceback": [
      "\u001b[0;31m---------------------------------------------------------------------------\u001b[0m",
      "\u001b[0;31mUnicodeDecodeError\u001b[0m                        Traceback (most recent call last)",
      "\u001b[0;32m/var/folders/mz/r1wtfk253597k9dz_sl4141r0000gn/T/ipykernel_18350/2321923758.py\u001b[0m in \u001b[0;36m<module>\u001b[0;34m\u001b[0m\n\u001b[1;32m     34\u001b[0m \u001b[0;32mwhile\u001b[0m \u001b[0;32mTrue\u001b[0m\u001b[0;34m:\u001b[0m\u001b[0;34m\u001b[0m\u001b[0;34m\u001b[0m\u001b[0m\n\u001b[1;32m     35\u001b[0m     \u001b[0mdataFromServer\u001b[0m \u001b[0;34m=\u001b[0m \u001b[0mclientSocket\u001b[0m\u001b[0;34m.\u001b[0m\u001b[0mrecv\u001b[0m\u001b[0;34m(\u001b[0m\u001b[0;36m1024\u001b[0m\u001b[0;34m)\u001b[0m\u001b[0;34m;\u001b[0m\u001b[0;34m\u001b[0m\u001b[0;34m\u001b[0m\u001b[0m\n\u001b[0;32m---> 36\u001b[0;31m     \u001b[0mprint\u001b[0m\u001b[0;34m(\u001b[0m\u001b[0mdataFromServer\u001b[0m\u001b[0;34m.\u001b[0m\u001b[0mdecode\u001b[0m\u001b[0;34m(\u001b[0m\u001b[0;34m'cp949'\u001b[0m\u001b[0;34m)\u001b[0m\u001b[0;34m.\u001b[0m\u001b[0mencode\u001b[0m\u001b[0;34m(\u001b[0m\u001b[0;34m'utf-8'\u001b[0m\u001b[0;34m)\u001b[0m\u001b[0;34m)\u001b[0m\u001b[0;34m\u001b[0m\u001b[0;34m\u001b[0m\u001b[0m\n\u001b[0m",
      "\u001b[0;31mUnicodeDecodeError\u001b[0m: 'cp949' codec can't decode byte 0x80 in position 190: illegal multibyte sequence"
     ]
    }
   ],
   "source": [
    "\n",
    "#----- A simple TCP client program in Python using send() function -----\n",
    "\n",
    "import socket\n",
    "\n",
    " \n",
    "\n",
    "# Create a client socket\n",
    "\n",
    "clientSocket = socket.socket(socket.AF_INET, socket.SOCK_STREAM);\n",
    "\n",
    " \n",
    "\n",
    "# Connect to the server\n",
    "\n",
    "clientSocket.connect((\"127.0.0.1\",8010));\n",
    "\n",
    " \n",
    "\n",
    "# Send data to server\n",
    "\n",
    "data = \"Hello Server!\";\n",
    "\n",
    "clientSocket.send(data.encode());\n",
    "\n",
    " \n",
    "\n",
    "# Receive data from server\n",
    "\n",
    "dataFromServer = clientSocket.recv(1024);\n",
    "\n",
    " \n",
    "\n",
    "# Print to the console\n",
    "while True:\n",
    "    dataFromServer = clientSocket.recv(1024);\n",
    "    print(dataFromServer.decode())\n",
    "    #print(dataFromServer.decode('cp949').encode('utf-8'))"
   ]
  }
 ],
 "metadata": {
  "kernelspec": {
   "display_name": "Python 3 (ipykernel)",
   "language": "python",
   "name": "python3"
  },
  "language_info": {
   "codemirror_mode": {
    "name": "ipython",
    "version": 3
   },
   "file_extension": ".py",
   "mimetype": "text/x-python",
   "name": "python",
   "nbconvert_exporter": "python",
   "pygments_lexer": "ipython3",
   "version": "3.9.7"
  }
 },
 "nbformat": 4,
 "nbformat_minor": 5
}
