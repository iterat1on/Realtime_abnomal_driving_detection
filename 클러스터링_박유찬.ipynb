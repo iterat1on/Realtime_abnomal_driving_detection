{
  "cells": [
    {
      "cell_type": "code",
      "source": [
        "from google.colab import drive\n",
        "drive.mount('/content/drive')"
      ],
      "metadata": {
        "colab": {
          "base_uri": "https://localhost:8080/"
        },
        "id": "5cPv_9xxGCpR",
        "outputId": "85432daa-20a4-402b-fe6c-7c4ae3155efb"
      },
      "execution_count": 3,
      "outputs": [
        {
          "output_type": "stream",
          "name": "stdout",
          "text": [
            "Drive already mounted at /content/drive; to attempt to forcibly remount, call drive.mount(\"/content/drive\", force_remount=True).\n"
          ]
        }
      ]
    },
    {
      "cell_type": "code",
      "source": [
        "import pandas as pd\n",
        "import numpy as np\n",
        "import matplotlib as plt\n",
        "import matplotlib.pyplot as plt\n",
        "import seaborn as sns\n",
        "from sklearn.cluster import KMeans\n",
        "from sklearn.datasets import make_blobs"
      ],
      "metadata": {
        "id": "6unpsQb1C4Q6"
      },
      "execution_count": 33,
      "outputs": []
    },
    {
      "cell_type": "code",
      "source": [
        "pd.set_option('display.max_columns', 300)\n",
        "df = pd.read_csv('/content/drive/MyDrive/df_done.csv')\n",
        "df = df[df['s_teukbyul_si/do'] == '부산광역시']\n",
        "df"
      ],
      "metadata": {
        "id": "00WQq8BaC4WY"
      },
      "execution_count": null,
      "outputs": []
    },
    {
      "cell_type": "markdown",
      "source": [
        "##1차 클러스터링(지역 및 비슷한 운행으로 군집)"
      ],
      "metadata": {
        "id": "QPYJTjB6TU1H"
      }
    },
    {
      "cell_type": "markdown",
      "source": [
        "###지역 원핫인코딩(부산으로만 필터링하면 안해도 될듯)"
      ],
      "metadata": {
        "id": "6B_PTLT4OfgJ"
      }
    },
    {
      "cell_type": "code",
      "source": [
        "#df = pd.get_dummies(data = df, columns = ['s_teukbyul_si/do'], prefix = 's_teukbyul_si/do')"
      ],
      "metadata": {
        "id": "Z6lRciSeOe6n"
      },
      "execution_count": null,
      "outputs": []
    },
    {
      "cell_type": "markdown",
      "source": [
        "###정규화"
      ],
      "metadata": {
        "id": "eaRLliw6K_ek"
      }
    },
    {
      "cell_type": "code",
      "source": [
        "from sklearn.preprocessing import MinMaxScaler\n",
        "\n",
        "# 두 가지 feature를 대상\n",
        "data = df[['duration(min)', 'root_dist(km)']]\n",
        "\n",
        "# 정규화 진행\n",
        "scaler = MinMaxScaler()\n",
        "data_scale = scaler.fit_transform(data)"
      ],
      "metadata": {
        "id": "srzDjO9oC4ZB"
      },
      "execution_count": 54,
      "outputs": []
    },
    {
      "cell_type": "markdown",
      "source": [
        "##모델링"
      ],
      "metadata": {
        "id": "Q3QAT5h7M64S"
      }
    },
    {
      "cell_type": "code",
      "source": [
        "from sklearn.cluster import KMeans\n",
        "\n",
        "k = 5\n",
        "\n",
        "# 그룹 수, random_state 설정\n",
        "model = KMeans(n_clusters = k, random_state = 10)\n",
        "\n",
        "# 정규화된 데이터에 학습\n",
        "model.fit(data_scale)\n",
        "\n",
        "# 클러스터링 결과 각 데이터가 몇 번째 그룹에 속하는지 저장\n",
        "df['cluster'] = model.fit_predict(data_scale)"
      ],
      "metadata": {
        "id": "sk9QYH5yC4c9"
      },
      "execution_count": 68,
      "outputs": []
    },
    {
      "cell_type": "code",
      "source": [
        "df.cluster.value_counts()"
      ],
      "metadata": {
        "colab": {
          "base_uri": "https://localhost:8080/"
        },
        "id": "mewcxVvUC4fO",
        "outputId": "78a0548d-8cc3-495c-f50e-4957bafb982b"
      },
      "execution_count": 69,
      "outputs": [
        {
          "output_type": "execute_result",
          "data": {
            "text/plain": [
              "0    10823\n",
              "4     1806\n",
              "1     1109\n",
              "2      250\n",
              "3        2\n",
              "Name: cluster, dtype: int64"
            ]
          },
          "metadata": {},
          "execution_count": 69
        }
      ]
    },
    {
      "cell_type": "code",
      "source": [
        "df[df.cluster == 1]"
      ],
      "metadata": {
        "id": "euRyGBvVTya6"
      },
      "execution_count": null,
      "outputs": []
    },
    {
      "cell_type": "markdown",
      "source": [
        "##최적의 k 찾기(엘보우 기법)"
      ],
      "metadata": {
        "id": "S7HjDRgRSz0m"
      }
    },
    {
      "cell_type": "code",
      "source": [
        "# 엘보우 기법 (오차제곱합의 값이 최소가 되도록 결정하는 방법)\n",
        "def elbow(data, length):\n",
        "    sse = [] # sum of squre error 오차제곱합\n",
        "    for i in range(1, length):\n",
        "        kmeans = KMeans(n_clusters=i)\n",
        "        kmeans.fit(data)\n",
        "        # SSE 값 저장\n",
        "        sse.append(kmeans.inertia_)\n",
        "    plt.plot(range(1, length), sse, 'bo-')\n",
        "    plt.title(\"elbow method\")\n",
        "    plt.xlabel(\"number of clusters\")\n",
        "    plt.ylabel(\"SSE\")\n",
        "    plt.show()\n",
        "elbow(data_scale, 10)"
      ],
      "metadata": {
        "colab": {
          "base_uri": "https://localhost:8080/",
          "height": 295
        },
        "id": "PQEIR96WNHFf",
        "outputId": "46ca6433-5e34-4e03-e872-cb807a59c847"
      },
      "execution_count": 71,
      "outputs": [
        {
          "output_type": "display_data",
          "data": {
            "text/plain": [
              "<Figure size 432x288 with 1 Axes>"
            ],
            "image/png": "[encoded data removed]"
          },
          "metadata": {
            "needs_background": "light"
          }
        }
      ]
    },
    {
      "cell_type": "markdown",
      "source": [
        "###클러스터링 시각화"
      ],
      "metadata": {
        "id": "qhmdNWlsM1d3"
      }
    },
    {
      "cell_type": "code",
      "source": [
        "import matplotlib.pyplot as plt\n",
        "\n",
        "plt.figure(figsize = (8, 8))\n",
        "\n",
        "for i in range(k):\n",
        "    plt.scatter(df.loc[df['cluster'] == i, 'duration(min)'], df.loc[df['cluster'] == i, 'root_dist(km)'], \n",
        "                label = 'cluster ' + str(i))\n",
        "\n",
        "plt.legend()\n",
        "plt.title('K = %d results'%k , size = 15)\n",
        "plt.xlabel('duration(min)', size = 12)\n",
        "plt.ylabel('root_dist(km)', size = 12)\n",
        "plt.show()"
      ],
      "metadata": {
        "colab": {
          "base_uri": "https://localhost:8080/",
          "height": 518
        },
        "id": "uEJBboORC4h_",
        "outputId": "2691570d-c8f6-4641-fd76-26ee80acfb14"
      },
      "execution_count": 72,
      "outputs": [
        {
          "output_type": "display_data",
          "data": {
            "text/plain": [
              "<Figure size 576x576 with 1 Axes>"
            ],
            "image/png": "[encoded data removed]"
          },
          "metadata": {
            "needs_background": "light"
          }
        }
      ]
    },
    {
      "cell_type": "markdown",
      "source": [
        "##2차 클러스터링(성향을 기준으로 클러스터링)"
      ],
      "metadata": {
        "id": "SJ3pH2FgTSNP"
      }
    },
    {
      "cell_type": "markdown",
      "source": [
        "##속도 파생변수 생성"
      ],
      "metadata": {
        "id": "m04eQTdOa3DX"
      }
    },
    {
      "cell_type": "code",
      "source": [
        "df"
      ],
      "metadata": {
        "id": "DuTR2-Tka2qW"
      },
      "execution_count": null,
      "outputs": []
    },
    {
      "cell_type": "code",
      "source": [
        "df[vel] = "
      ],
      "metadata": {
        "id": "vW4j2V3-bD7q"
      },
      "execution_count": null,
      "outputs": []
    },
    {
      "cell_type": "markdown",
      "source": [
        "###파생변수 생성후 다시 2차 클러스터링 진행"
      ],
      "metadata": {
        "id": "gRMC5qWPa9kT"
      }
    },
    {
      "cell_type": "code",
      "source": [
        "df0 = df[df.cluster == 0]\n",
        "df1 = df[df.cluster == 1]\n",
        "df2 = df[df.cluster == 2]"
      ],
      "metadata": {
        "id": "mUUr0YnFTRoa"
      },
      "execution_count": 64,
      "outputs": []
    },
    {
      "cell_type": "code",
      "source": [
        "df0"
      ],
      "metadata": {
        "id": "e9Do3yRzWul_"
      },
      "execution_count": null,
      "outputs": []
    },
    {
      "cell_type": "code",
      "source": [
        "from sklearn.preprocessing import MinMaxScaler\n",
        "\n",
        "# 두 가지 feature를 대상\n",
        "data = df0[['max_rpm', 'root_dist(km)']]\n",
        "\n",
        "# 정규화 진행\n",
        "scaler = MinMaxScaler()\n",
        "data_scale = scaler.fit_transform(data)"
      ],
      "metadata": {
        "id": "uEYJAtT6abMZ"
      },
      "execution_count": null,
      "outputs": []
    },
    {
      "cell_type": "code",
      "source": [
        "from sklearn.cluster import KMeans\n",
        "\n",
        "k = 5\n",
        "\n",
        "# 그룹 수, random_state 설정\n",
        "model = KMeans(n_clusters = k, random_state = 10)\n",
        "\n",
        "# 정규화된 데이터에 학습\n",
        "model.fit(data_scale)\n",
        "\n",
        "# 클러스터링 결과 각 데이터가 몇 번째 그룹에 속하는지 저장\n",
        "df['cluster'] = model.fit_predict(data_scale)"
      ],
      "metadata": {
        "id": "GVy77cGGamm6"
      },
      "execution_count": null,
      "outputs": []
    }
  ],
  "metadata": {
    "colab": {
      "name": "클러스터링.ipynb",
      "provenance": []
    },
    "kernelspec": {
      "display_name": "Python 3",
      "name": "python3"
    },
    "language_info": {
      "name": "python"
    }
  },
  "nbformat": 4,
  "nbformat_minor": 0
}