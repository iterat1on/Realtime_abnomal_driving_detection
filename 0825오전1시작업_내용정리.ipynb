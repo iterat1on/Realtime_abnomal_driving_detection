{
  "cells": [
    {
      "cell_type": "markdown",
      "metadata": {
        "id": "view-in-github",
        "colab_type": "text"
      },
      "source": [
        "<a href=\"https://colab.research.google.com/github/iterat1on/class/blob/main/0825%EC%98%A4%EC%A0%841%EC%8B%9C%EC%9E%91%EC%97%85_%EB%82%B4%EC%9A%A9%EC%A0%95%EB%A6%AC.ipynb\" target=\"_parent\"><img src=\"https://colab.research.google.com/assets/colab-badge.svg\" alt=\"Open In Colab\"/></a>"
      ]
    },
    {
      "cell_type": "code",
      "source": [
        "from google.colab import drive\n",
        "drive.mount('/content/drive')"
      ],
      "metadata": {
        "colab": {
          "base_uri": "https://localhost:8080/"
        },
        "id": "5cPv_9xxGCpR",
        "outputId": "046541ea-f447-4544-bb0d-c47bfa3662a8"
      },
      "execution_count": null,
      "outputs": [
        {
          "output_type": "stream",
          "name": "stdout",
          "text": [
            "Drive already mounted at /content/drive; to attempt to forcibly remount, call drive.mount(\"/content/drive\", force_remount=True).\n"
          ]
        }
      ]
    },
    {
      "cell_type": "code",
      "source": [
        "import pandas as pd\n",
        "import numpy as np\n",
        "import matplotlib as plt\n",
        "import matplotlib.pyplot as plt\n",
        "import seaborn as sns\n",
        "from sklearn.cluster import KMeans\n",
        "from sklearn.datasets import make_blobs"
      ],
      "metadata": {
        "id": "6unpsQb1C4Q6"
      },
      "execution_count": null,
      "outputs": []
    },
    {
      "cell_type": "code",
      "source": [
        "pd.set_option('display.max_columns', 300)\n",
        "df = pd.read_csv('/content/drive/MyDrive/sample_data/df.csv')\n"
      ],
      "metadata": {
        "id": "00WQq8BaC4WY"
      },
      "execution_count": null,
      "outputs": []
    },
    {
      "cell_type": "code",
      "source": [
        "df2 = df[df['path'].str.contains(\"울만로|공항앞길|공항로|공항진입로|유통단지1로|영종해안북로|영종해안남로|공항연결로|공항서로|남북로|공항로|용유서로|개화동로|공항대로|남부순환로\")]\n",
        "df3 = df2[-df2['path'].str.contains(\"고속\")]"
      ],
      "metadata": {
        "id": "rbxq9ieFud8n"
      },
      "execution_count": null,
      "outputs": []
    },
    {
      "cell_type": "markdown",
      "source": [
        ""
      ],
      "metadata": {
        "id": "xYlLXk8dKTl3"
      }
    },
    {
      "cell_type": "markdown",
      "source": [
        "### 누락 레코드 제거"
      ],
      "metadata": {
        "id": "yWK4XnyWIX7R"
      }
    },
    {
      "cell_type": "code",
      "source": [
        "df4= df3[['s'+str(i) for i in range(20, 160, 10)]]\n",
        "#df2.head()\n",
        "min_value = np.array([np.arange(20, 160, 10)]).T\n",
        "med_value = np.array([np.arange(25, 165, 10)]).T\n",
        "max_value = np.array([np.arange(30, 170, 10)]).T\n",
        "\n",
        "\n",
        "#df3['min_est_dist'] = np.dot(df2, min_value)/3600\n",
        "#df3['med_est_dist'] = np.dot(df4, med_value)/3600\n",
        "#df['max_est_dist'] = np.dot(df2, max_value)/3600\n",
        "\n",
        "#df['diff1'] = np.abs(df['root_dist(km)'] - df['min_est_dist'])\n",
        "#df['diff2'] = np.abs(df['root_dist(km)'] - df['med_est_dist'])\n",
        "df3['diff'] = np.abs(df3['root_dist(km)'] - df3['med_est_dist'])"
      ],
      "metadata": {
        "id": "NNyKXjN7IdyB",
        "colab": {
          "base_uri": "https://localhost:8080/"
        },
        "outputId": "a6ca21b3-a877-419a-ce9f-75b784124e91"
      },
      "execution_count": null,
      "outputs": [
        {
          "output_type": "stream",
          "name": "stderr",
          "text": [
            "/usr/local/lib/python3.7/dist-packages/ipykernel_launcher.py:14: SettingWithCopyWarning: \n",
            "A value is trying to be set on a copy of a slice from a DataFrame.\n",
            "Try using .loc[row_indexer,col_indexer] = value instead\n",
            "\n",
            "See the caveats in the documentation: https://pandas.pydata.org/pandas-docs/stable/user_guide/indexing.html#returning-a-view-versus-a-copy\n",
            "  \n"
          ]
        }
      ]
    },
    {
      "cell_type": "code",
      "source": [
        "df3 = df3[df3['diff'] < np.mean(df3['root_dist(km)'])]"
      ],
      "metadata": {
        "id": "J0Hit6XWKNrd"
      },
      "execution_count": null,
      "outputs": []
    },
    {
      "cell_type": "code",
      "source": [
        "df3.to_csv('/content/drive/MyDrive/removenadf.csv', index = False, encoding ='utf-8-sig')"
      ],
      "metadata": {
        "id": "QWpH_iCoMLux"
      },
      "execution_count": null,
      "outputs": []
    },
    {
      "cell_type": "code",
      "source": [
        "df = pd.read_csv('/content/drive/MyDrive/removenadf.csv')"
      ],
      "metadata": {
        "id": "-4C4qPbNE4nk"
      },
      "execution_count": null,
      "outputs": []
    },
    {
      "cell_type": "markdown",
      "source": [
        "###주행 총 레코드가 0인 데이터 제거"
      ],
      "metadata": {
        "id": "d63bE9MUJtCp"
      }
    },
    {
      "cell_type": "code",
      "source": [
        "df = df[df['med_est_dist'] > 0]"
      ],
      "metadata": {
        "id": "QomFkYXsIdcc"
      },
      "execution_count": null,
      "outputs": []
    },
    {
      "cell_type": "markdown",
      "source": [
        "##1차 클러스터링(지역 및 비슷한 운행으로 군집)"
      ],
      "metadata": {
        "id": "QPYJTjB6TU1H"
      }
    },
    {
      "cell_type": "markdown",
      "source": [
        "###정규화"
      ],
      "metadata": {
        "id": "eaRLliw6K_ek"
      }
    },
    {
      "cell_type": "code",
      "source": [
        "from sklearn.preprocessing import MinMaxScaler\n",
        "\n",
        "# 세 가지 feature를 대상\n",
        "\n",
        "data = df.copy()[['duration(min)', 'root_dist(km)', 'fee']]\n",
        "\n",
        "# 정규화 진행\n",
        "scaler = MinMaxScaler()\n",
        "data_scale = scaler.fit_transform(data)"
      ],
      "metadata": {
        "id": "srzDjO9oC4ZB"
      },
      "execution_count": null,
      "outputs": []
    },
    {
      "cell_type": "code",
      "source": [
        "data.corr()"
      ],
      "metadata": {
        "id": "dPPWH1ZtxMFB"
      },
      "execution_count": null,
      "outputs": []
    },
    {
      "cell_type": "markdown",
      "source": [
        "###PCA"
      ],
      "metadata": {
        "id": "RVOcx0_iFLEt"
      }
    },
    {
      "cell_type": "code",
      "source": [
        "from sklearn.decomposition import PCA\n",
        "X = data_scale.copy()\n",
        "\n",
        "pca = PCA(n_components=2)\n",
        "\n",
        "pca.fit(X)\n",
        "x_pca = pca.transform(X)"
      ],
      "metadata": {
        "id": "rleIpOZiFKrL"
      },
      "execution_count": null,
      "outputs": []
    },
    {
      "cell_type": "code",
      "source": [
        "pca.explained_variance_ratio_"
      ],
      "metadata": {
        "colab": {
          "base_uri": "https://localhost:8080/"
        },
        "id": "NHUY5FcFxv2D",
        "outputId": "b58530f5-39f8-4d16-a117-58e13664fee0"
      },
      "execution_count": null,
      "outputs": [
        {
          "output_type": "execute_result",
          "data": {
            "text/plain": [
              "array([0.96902216, 0.02887762])"
            ]
          },
          "metadata": {},
          "execution_count": 94
        }
      ]
    },
    {
      "cell_type": "code",
      "source": [
        "pca_df = pd.DataFrame(x_pca, columns=['pc1', 'pc2'])\n",
        "pca_df"
      ],
      "metadata": {
        "id": "KGk3i8q7FXcp"
      },
      "execution_count": null,
      "outputs": []
    },
    {
      "cell_type": "code",
      "source": [
        "x = [] \n",
        "y = []  \n",
        "\n",
        "for k in range(1, 30):\n",
        "    kmeans = KMeans(n_clusters = k)\n",
        "    kmeans.fit(pca_df)\n",
        "    \n",
        "    x.append(k)\n",
        "    y.append(kmeans.inertia_)"
      ],
      "metadata": {
        "id": "6rpi7_LmGFGG"
      },
      "execution_count": null,
      "outputs": []
    },
    {
      "cell_type": "code",
      "source": [
        "plt.plot(x, y);"
      ],
      "metadata": {
        "colab": {
          "base_uri": "https://localhost:8080/",
          "height": 265
        },
        "id": "OZqFDBt-GGTL",
        "outputId": "b28f19d7-f330-4236-e2b5-699cf16a5684"
      },
      "execution_count": null,
      "outputs": [
        {
          "output_type": "display_data",
          "data": {
            "text/plain": [
              "<Figure size 432x288 with 1 Axes>"
            ],
            "image/png": "[encoded data removed]"
          },
          "metadata": {
            "needs_background": "light"
          }
        }
      ]
    },
    {
      "cell_type": "code",
      "source": [
        "kmeans = KMeans(n_clusters=5, random_state=0)\n",
        "clusters = kmeans.fit(pca_df)\n",
        "pca_df['clusters'] = clusters.labels_"
      ],
      "metadata": {
        "id": "JMPMBEQhGbQG"
      },
      "execution_count": null,
      "outputs": []
    },
    {
      "cell_type": "code",
      "source": [
        "pca_df.clusters.value_counts()\n"
      ],
      "metadata": {
        "colab": {
          "base_uri": "https://localhost:8080/"
        },
        "id": "8ou8aqbtGcJ6",
        "outputId": "b4bb4c7d-1ce2-4018-9058-d581dd9c9927"
      },
      "execution_count": null,
      "outputs": [
        {
          "output_type": "execute_result",
          "data": {
            "text/plain": [
              "0    6340\n",
              "4     759\n",
              "3     440\n",
              "1     194\n",
              "2      43\n",
              "Name: clusters, dtype: int64"
            ]
          },
          "metadata": {},
          "execution_count": 99
        }
      ]
    },
    {
      "cell_type": "code",
      "source": [
        "#df = df.drop(columns = ['level_0', 'index'])\n",
        "df.reset_index(inplace = True)"
      ],
      "metadata": {
        "id": "ak44Ll2CNzsM"
      },
      "execution_count": null,
      "outputs": []
    },
    {
      "cell_type": "code",
      "source": [
        "cluster_df = pd.concat([df, pca_df], axis = 1)\n"
      ],
      "metadata": {
        "id": "3exlxwB6Go7q"
      },
      "execution_count": null,
      "outputs": []
    },
    {
      "cell_type": "code",
      "source": [
        "cluster_df.to_csv('/content/drive/MyDrive/clusterdf.csv', encoding = 'utf-8', index = False)"
      ],
      "metadata": {
        "id": "eMqqYqkoQEL-"
      },
      "execution_count": null,
      "outputs": []
    },
    {
      "cell_type": "markdown",
      "source": [
        "##pca 군집 시각화"
      ],
      "metadata": {
        "id": "n8J0Od-vsusO"
      }
    },
    {
      "cell_type": "code",
      "source": [
        "##위 파일명에 맞게 코드 수정필요\n",
        "import matplotlib.pyplot as plt\n",
        "\n",
        "plt.figure(figsize = (8, 8))\n",
        "\n",
        "for i in range(k):\n",
        "    plt.scatter(df.loc[df['cluster'] == i, 'duration(min)'], df.loc[df['cluster'] == i, 'root_dist(km)'], \n",
        "                label = 'cluster ' + str(i))\n",
        "\n",
        "plt.legend()\n",
        "plt.title('K = %d results'%k , size = 15)\n",
        "plt.xlabel('duration(min)', size = 12)\n",
        "plt.ylabel('root_dist(km)', size = 12)\n",
        "plt.show()"
      ],
      "metadata": {
        "id": "uEJBboORC4h_"
      },
      "execution_count": null,
      "outputs": []
    },
    {
      "cell_type": "markdown",
      "source": [
        "###평균속도 구하기"
      ],
      "metadata": {
        "id": "lUxdQ9JLz05j"
      }
    },
    {
      "cell_type": "code",
      "source": [
        "vel = df.iloc[:, 2:16]\n",
        "cluster_df['time_sum'] = vel.sum(axis = 1)/3600\n",
        "cluster_df['avg_speed'] = cluster_df['med_est_dist'] / cluster_df['time_sum']"
      ],
      "metadata": {
        "id": "Wr5hDo2Gz0pN"
      },
      "execution_count": null,
      "outputs": []
    },
    {
      "cell_type": "code",
      "source": [
        "plt.hist(cluster_df['avg_speed'], bins = 50)"
      ],
      "metadata": {
        "id": "dJ8H_Anr0Joo"
      },
      "execution_count": null,
      "outputs": []
    },
    {
      "cell_type": "code",
      "source": [
        "cluster_df['avg_speed'].describe()"
      ],
      "metadata": {
        "colab": {
          "base_uri": "https://localhost:8080/"
        },
        "id": "70fzws734LpR",
        "outputId": "8f4ed84d-bd94-4d1e-9473-5ce47015bcf2"
      },
      "execution_count": null,
      "outputs": [
        {
          "output_type": "execute_result",
          "data": {
            "text/plain": [
              "count    6419.000000\n",
              "mean       37.183828\n",
              "std        10.143717\n",
              "min        25.000000\n",
              "25%        29.285714\n",
              "50%        35.471204\n",
              "75%        43.021822\n",
              "max       101.601942\n",
              "Name: vel_mean, dtype: float64"
            ]
          },
          "metadata": {},
          "execution_count": 126
        }
      ]
    },
    {
      "cell_type": "code",
      "source": [
        "##변수명 다시 지정\n",
        "df = cluster_df"
      ],
      "metadata": {
        "colab": {
          "base_uri": "https://localhost:8080/",
          "height": 170
        },
        "id": "vNvE4ubwtkN-",
        "outputId": "345b642a-3200-46a7-fb11-ddfb63fea676"
      },
      "execution_count": 1,
      "outputs": [
        {
          "output_type": "error",
          "ename": "NameError",
          "evalue": "ignored",
          "traceback": [
            "\u001b[0;31m---------------------------------------------------------------------------\u001b[0m",
            "\u001b[0;31mNameError\u001b[0m                                 Traceback (most recent call last)",
            "\u001b[0;32m<ipython-input-1-9ec478e5721a>\u001b[0m in \u001b[0;36m<module>\u001b[0;34m\u001b[0m\n\u001b[0;32m----> 1\u001b[0;31m \u001b[0mcluster_df\u001b[0m\u001b[0;34m\u001b[0m\u001b[0;34m\u001b[0m\u001b[0m\n\u001b[0m",
            "\u001b[0;31mNameError\u001b[0m: name 'cluster_df' is not defined"
          ]
        }
      ]
    },
    {
      "cell_type": "markdown",
      "source": [
        "###평균속도 분포 분석"
      ],
      "metadata": {
        "id": "oDcXGPGStWpd"
      }
    },
    {
      "cell_type": "code",
      "source": [
        "plt.figure(figsize=(15,8))\n",
        "plt.hist(df.avg_speed, bins=50);"
      ],
      "metadata": {
        "id": "0Eo-a_uAtZuV"
      },
      "execution_count": null,
      "outputs": []
    },
    {
      "cell_type": "code",
      "source": [
        "df['sqrt'] = np.sqrt(df.avg_speed)"
      ],
      "metadata": {
        "id": "Vjgi0O9WtZqK"
      },
      "execution_count": null,
      "outputs": []
    },
    {
      "cell_type": "code",
      "source": [
        "sns.set(rc={'figure.figsize':(11.7,8.27)})\n",
        "sns.kdeplot(df.avg_speed);"
      ],
      "metadata": {
        "id": "ckck1_LCt8Kt"
      },
      "execution_count": null,
      "outputs": []
    },
    {
      "cell_type": "code",
      "source": [
        "plt.figure(figsize=(15,8))\n",
        "plt.boxplot(df.avg_speed);"
      ],
      "metadata": {
        "id": "9H0tuUvDuwww"
      },
      "execution_count": null,
      "outputs": []
    },
    {
      "cell_type": "code",
      "source": [
        "df.avg_speed.describe()"
      ],
      "metadata": {
        "id": "F8yKl6vot8C5"
      },
      "execution_count": null,
      "outputs": []
    },
    {
      "cell_type": "code",
      "source": [
        "critical = df['avg_speed'].quantile(q=0.99, interpolation='nearest')\n",
        "critical"
      ],
      "metadata": {
        "id": "vKKiICIlt8AB"
      },
      "execution_count": null,
      "outputs": []
    },
    {
      "cell_type": "code",
      "source": [
        "df2 = df[df['avg_speed'] > critical]\n",
        "df[df['avg_speed'] > critical].shape[0] / df.shape[0]"
      ],
      "metadata": {
        "id": "kD6NYD6juEVV"
      },
      "execution_count": null,
      "outputs": []
    },
    {
      "cell_type": "code",
      "source": [
        "q1 = df['avg_speed'].quantile(0.25)\n",
        "q2 = df['avg_speed'].quantile(0.5)\n",
        "q3 = df['avg_speed'].quantile(0.75)\n",
        "iqr = q3-q1\n",
        "iqr"
      ],
      "metadata": {
        "id": "H1Qh-j4EuEMt"
      },
      "execution_count": null,
      "outputs": []
    },
    {
      "cell_type": "code",
      "source": [
        "q3+1.5*iqr"
      ],
      "metadata": {
        "id": "u69Nc5gDuEJ2"
      },
      "execution_count": null,
      "outputs": []
    },
    {
      "cell_type": "code",
      "source": [
        "df[df['avg_speed'] > q3+1.5*iqr]"
      ],
      "metadata": {
        "id": "rDOO4e_luEGu"
      },
      "execution_count": null,
      "outputs": []
    },
    {
      "cell_type": "markdown",
      "source": [
        "###클러스터 0(단거리 주행)으로 필터링"
      ],
      "metadata": {
        "id": "Os3S6DnBuW55"
      }
    },
    {
      "cell_type": "code",
      "source": [
        "df_0 = df[df.clusters == 0]"
      ],
      "metadata": {
        "id": "11J5RpktuPy4"
      },
      "execution_count": null,
      "outputs": []
    },
    {
      "cell_type": "code",
      "source": [
        "sns.kdeplot(df_0.avg_speed);"
      ],
      "metadata": {
        "id": "ILTLLyvquPwS"
      },
      "execution_count": null,
      "outputs": []
    },
    {
      "cell_type": "code",
      "source": [
        "df_0.avg_speed.describe()"
      ],
      "metadata": {
        "id": "dvKE5AkoumQo"
      },
      "execution_count": null,
      "outputs": []
    },
    {
      "cell_type": "code",
      "source": [
        "critical = df_0['avg_speed'].quantile(q=0.99, interpolation='nearest')\n",
        "critical"
      ],
      "metadata": {
        "id": "RPIpQJl5upO_"
      },
      "execution_count": null,
      "outputs": []
    },
    {
      "cell_type": "code",
      "source": [
        "df3 = df_0[df_0.avg_speed > critical]"
      ],
      "metadata": {
        "id": "EORowzlkupL3"
      },
      "execution_count": null,
      "outputs": []
    },
    {
      "cell_type": "markdown",
      "source": [
        "###folium을 통해 경로 시각화"
      ],
      "metadata": {
        "id": "FIq94b322n5C"
      }
    },
    {
      "cell_type": "code",
      "source": [
        "import folium\n",
        "center = [36.6,126.99]\n",
        "m= folium.Map(location = center, zoom_start = 12)"
      ],
      "metadata": {
        "id": "gEvH9ACh2vnZ"
      },
      "execution_count": null,
      "outputs": []
    },
    {
      "cell_type": "code",
      "source": [
        "##변수명에 맞게 코드 수정필요.\n",
        "\n",
        "newdf['s'] = newdf[['s_lat','s_lng']].values[:].tolist()\n",
        "newdf['e'] = newdf[['e_lat','e_lng']].values[:].tolist()\n",
        "\n",
        "\n",
        "for i in range(len(newdf)):\n",
        "  line = newdf[['s','e']].values[i].tolist()\n",
        "  folium.PolyLine(locations = line, tooltip = 'Polyline').add_to(m)\n",
        "\n",
        "m"
      ],
      "metadata": {
        "id": "MXtBfdVJ2vkQ",
        "colab": {
          "base_uri": "https://localhost:8080/",
          "height": 241
        },
        "outputId": "7aac4de2-d528-45fc-a71b-bdb759933e6b"
      },
      "execution_count": 2,
      "outputs": [
        {
          "output_type": "error",
          "ename": "NameError",
          "evalue": "ignored",
          "traceback": [
            "\u001b[0;31m---------------------------------------------------------------------------\u001b[0m",
            "\u001b[0;31mNameError\u001b[0m                                 Traceback (most recent call last)",
            "\u001b[0;32m<ipython-input-2-7a7c80537deb>\u001b[0m in \u001b[0;36m<module>\u001b[0;34m\u001b[0m\n\u001b[1;32m      1\u001b[0m \u001b[0;31m##변수명에 맞게 코드 수정필요.\u001b[0m\u001b[0;34m\u001b[0m\u001b[0;34m\u001b[0m\u001b[0;34m\u001b[0m\u001b[0m\n\u001b[1;32m      2\u001b[0m \u001b[0;34m\u001b[0m\u001b[0m\n\u001b[0;32m----> 3\u001b[0;31m \u001b[0mnewdf\u001b[0m\u001b[0;34m[\u001b[0m\u001b[0;34m's'\u001b[0m\u001b[0;34m]\u001b[0m \u001b[0;34m=\u001b[0m \u001b[0mnewdf\u001b[0m\u001b[0;34m[\u001b[0m\u001b[0;34m[\u001b[0m\u001b[0;34m's_lat'\u001b[0m\u001b[0;34m,\u001b[0m\u001b[0;34m's_lng'\u001b[0m\u001b[0;34m]\u001b[0m\u001b[0;34m]\u001b[0m\u001b[0;34m.\u001b[0m\u001b[0mvalues\u001b[0m\u001b[0;34m[\u001b[0m\u001b[0;34m:\u001b[0m\u001b[0;34m]\u001b[0m\u001b[0;34m.\u001b[0m\u001b[0mtolist\u001b[0m\u001b[0;34m(\u001b[0m\u001b[0;34m)\u001b[0m\u001b[0;34m\u001b[0m\u001b[0;34m\u001b[0m\u001b[0m\n\u001b[0m\u001b[1;32m      4\u001b[0m \u001b[0mnewdf\u001b[0m\u001b[0;34m[\u001b[0m\u001b[0;34m'e'\u001b[0m\u001b[0;34m]\u001b[0m \u001b[0;34m=\u001b[0m \u001b[0mnewdf\u001b[0m\u001b[0;34m[\u001b[0m\u001b[0;34m[\u001b[0m\u001b[0;34m'e_lat'\u001b[0m\u001b[0;34m,\u001b[0m\u001b[0;34m'e_lng'\u001b[0m\u001b[0;34m]\u001b[0m\u001b[0;34m]\u001b[0m\u001b[0;34m.\u001b[0m\u001b[0mvalues\u001b[0m\u001b[0;34m[\u001b[0m\u001b[0;34m:\u001b[0m\u001b[0;34m]\u001b[0m\u001b[0;34m.\u001b[0m\u001b[0mtolist\u001b[0m\u001b[0;34m(\u001b[0m\u001b[0;34m)\u001b[0m\u001b[0;34m\u001b[0m\u001b[0;34m\u001b[0m\u001b[0m\n\u001b[1;32m      5\u001b[0m \u001b[0;34m\u001b[0m\u001b[0m\n",
            "\u001b[0;31mNameError\u001b[0m: name 'newdf' is not defined"
          ]
        }
      ]
    },
    {
      "cell_type": "code",
      "source": [
        ""
      ],
      "metadata": {
        "id": "p6wQCr1Uu3Uu"
      },
      "execution_count": null,
      "outputs": []
    }
  ],
  "metadata": {
    "colab": {
      "name": "0825오전1시작업_내용정리.ipynb",
      "provenance": [],
      "mount_file_id": "1_9pJ3mv3XszAMEw99Fv3WbeIm8zEDvzR",
      "authorship_tag": "ABX9TyMDZQGcJt1ENPsXwcCjZIUJ",
      "include_colab_link": true
    },
    "kernelspec": {
      "display_name": "Python 3",
      "name": "python3"
    },
    "language_info": {
      "name": "python"
    }
  },
  "nbformat": 4,
  "nbformat_minor": 0
}