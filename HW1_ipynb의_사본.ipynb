{
  "nbformat": 4,
  "nbformat_minor": 0,
  "metadata": {
    "colab": {
      "name": "HW1.ipynb의 사본",
      "provenance": [],
      "collapsed_sections": [],
      "include_colab_link": true
    },
    "kernelspec": {
      "name": "python3",
      "display_name": "Python 3"
    },
    "language_info": {
      "name": "python"
    },
    "accelerator": "GPU"
  },
  "cells": [
    {
      "cell_type": "markdown",
      "metadata": {
        "id": "view-in-github",
        "colab_type": "text"
      },
      "source": [
        "<a href=\"https://colab.research.google.com/github/iterat1on/class/blob/main/HW1_ipynb%EC%9D%98_%EC%82%AC%EB%B3%B8.ipynb\" target=\"_parent\"><img src=\"https://colab.research.google.com/assets/colab-badge.svg\" alt=\"Open In Colab\"/></a>"
      ]
    },
    {
      "cell_type": "markdown",
      "source": [
        "## HW 1 \n",
        "Answer folloing questions using tensorflow's gradient tape.  \n",
        "\n",
        "EX)\n",
        "```\n",
        "input_var = tf.Variable(initial_value=3.)\n",
        "with tf.GradientTape() as tape:\n",
        "   result = tf.square(input_var)\n",
        "gradient = tape.gradient(result, input_var)\n",
        "```\n",
        "\n",
        "### Q1 Differentiate $y = x^2 + 3x + 1$ with respect to a scalar variable $x$."
      ],
      "metadata": {
        "id": "OwBySVVU5h6M"
      }
    },
    {
      "cell_type": "code",
      "source": [
        "import tensorflow as tf"
      ],
      "metadata": {
        "id": "8p-tCU0_vHnY"
      },
      "execution_count": null,
      "outputs": []
    },
    {
      "cell_type": "code",
      "execution_count": null,
      "metadata": {
        "id": "aZSgHuiR5W1k",
        "colab": {
          "base_uri": "https://localhost:8080/"
        },
        "outputId": "ea5c4a3a-509e-4af8-fe53-957b8f834234"
      },
      "outputs": [
        {
          "output_type": "execute_result",
          "data": {
            "text/plain": [
              "<tf.Tensor: shape=(), dtype=float32, numpy=5.0>"
            ]
          },
          "metadata": {},
          "execution_count": 17
        }
      ],
      "source": [
        "# let initial value = 1\n",
        "x = tf.Variable(initial_value=1.)\n",
        "with tf.GradientTape() as tape :\n",
        "  y = x**2+3*x+1\n",
        "gr_y_wrt_x = tape.gradient(y, x)\n",
        "gr_y_wrt_x"
      ]
    },
    {
      "cell_type": "markdown",
      "source": [
        "### Q2 Differentiate $y = X^3 + 3X + 5$ with respect to a 2 by 2 matrix variable $X$."
      ],
      "metadata": {
        "id": "qEqK8L1k6PSd"
      }
    },
    {
      "cell_type": "code",
      "source": [
        "X = tf.Variable(tf.ones((2, 2)))\n",
        "with tf.GradientTape() as tape :\n",
        "  y = X**3+3*X+5\n",
        "gr_y_wrt_X = tape.gradient(y ,X)\n",
        "gr_y_wrt_X"
      ],
      "metadata": {
        "id": "WKvVq8pQ6YNt",
        "colab": {
          "base_uri": "https://localhost:8080/"
        },
        "outputId": "afa4c9ba-40bf-49a2-cdd0-e797eacd722a"
      },
      "execution_count": null,
      "outputs": [
        {
          "output_type": "execute_result",
          "data": {
            "text/plain": [
              "<tf.Tensor: shape=(2, 2), dtype=float32, numpy=\n",
              "array([[6., 6.],\n",
              "       [6., 6.]], dtype=float32)>"
            ]
          },
          "metadata": {},
          "execution_count": 18
        }
      ]
    },
    {
      "cell_type": "markdown",
      "source": [
        "### Q3 Differentiate $z = X^3 y^2 + 3X + 2Xy + 1$ with respect to a 2 by 2 matrix variable $X$ and a scalar variable $y$."
      ],
      "metadata": {
        "id": "AFsXMZmW6e6F"
      }
    },
    {
      "cell_type": "code",
      "source": [
        "X = tf.Variable(tf.random.uniform((2,2)))\n",
        "y = tf.Variable(2.)\n",
        "\n",
        "with tf.GradientTape(persistent=True) as tape :\n",
        "  z = X**3*y**2+3*X+2*X*y+1\n",
        "\n",
        "gr = tape.gradient(z, [X, y])\n",
        "print(f'dz/dX = {gr[0]}\\n \\ndz/dy = {gr[1]}')"
      ],
      "metadata": {
        "id": "mXXKBxo36kPl",
        "colab": {
          "base_uri": "https://localhost:8080/"
        },
        "outputId": "517c691b-8eff-45b2-8ebc-ef8d93709832"
      },
      "execution_count": null,
      "outputs": [
        {
          "output_type": "stream",
          "name": "stdout",
          "text": [
            "dz/dX = [[8.678173  3.005645 ]\n",
            " [8.681045  3.3938298]]\n",
            " \n",
            "dz/dy = 26.628751754760742\n"
          ]
        }
      ]
    },
    {
      "cell_type": "code",
      "source": [
        "X = tf.Variable(tf.random.uniform((2,2)))\n",
        "y = tf.Variable(2.)\n",
        "\n",
        "with tf.GradientTape(persistent=True) as tape :\n",
        "  z = X**3*y**2+3*X+2*X*y+1\n",
        "\n",
        "gr = tape.gradient(z, [X, y])\n",
        "print(f'dz/dX = {gr[0]}\\n \\ndz/dy = {gr[1]}')"
      ],
      "metadata": {
        "colab": {
          "base_uri": "https://localhost:8080/"
        },
        "id": "TYiy0_xTk4im",
        "outputId": "6a72aa52-49b2-4824-efc3-8ac7075b1f89"
      },
      "execution_count": null,
      "outputs": [
        {
          "output_type": "stream",
          "name": "stdout",
          "text": [
            "dz/dX = [[7.244041 7.360065]\n",
            " [8.368526 8.490388]]\n",
            " \n",
            "dz/dy = 2.3734240531921387\n"
          ]
        }
      ]
    }
  ]
}